{
 "cells": [
  {
   "cell_type": "code",
   "execution_count": 1,
   "metadata": {
    "collapsed": false
   },
   "outputs": [],
   "source": [
    "import requests     # how python goes onto the internet!\n",
    "import re           # regex\n",
    "from bs4 import BeautifulSoup # a python HTML parser (version 3)"
   ]
  },
  {
   "cell_type": "code",
   "execution_count": null,
   "metadata": {
    "collapsed": true
   },
   "outputs": [],
   "source": []
  },
  {
   "cell_type": "code",
   "execution_count": null,
   "metadata": {
    "collapsed": true
   },
   "outputs": [],
   "source": [
    "# let's turn to stock prices\n",
    "# http://finance.google.com/finance?q=aapl"
   ]
  },
  {
   "cell_type": "code",
   "execution_count": null,
   "metadata": {
    "collapsed": true
   },
   "outputs": [],
   "source": [
    "symbol = 'aapl'"
   ]
  },
  {
   "cell_type": "code",
   "execution_count": null,
   "metadata": {
    "collapsed": false
   },
   "outputs": [],
   "source": [
    "# Let's grab the raw html from the page\n",
    "## requests grabs the html\n",
    "r = requests.get('http://finance.google.com/finance?q='+symbol) # the url of the google finance page goes in here\n",
    "r"
   ]
  },
  {
   "cell_type": "code",
   "execution_count": null,
   "metadata": {
    "collapsed": false
   },
   "outputs": [],
   "source": [
    "## Beautiful soup processes the html\n",
    "# b = BeautifulSoup(r.text, \"html5lib\") # create a beautifulsoup object\n",
    "b = BeautifulSoup(r.text, 'html.parser') # try this line instead if you have problems"
   ]
  },
  {
   "cell_type": "code",
   "execution_count": null,
   "metadata": {
    "collapsed": false
   },
   "outputs": [],
   "source": [
    "b.prettify() # will print the html nicely"
   ]
  },
  {
   "cell_type": "code",
   "execution_count": null,
   "metadata": {
    "collapsed": false,
    "scrolled": true
   },
   "outputs": [],
   "source": [
    "# find all span tags\n",
    "b.findAll('span')\n",
    "# b.find_all('span') for bs4 users"
   ]
  },
  {
   "cell_type": "code",
   "execution_count": null,
   "metadata": {
    "collapsed": true
   },
   "outputs": [],
   "source": [
    "# the pattern we recognized from the website\n",
    "re_tag = re.compile(\"ref_\\d+_l\") "
   ]
  },
  {
   "cell_type": "code",
   "execution_count": null,
   "metadata": {
    "collapsed": true
   },
   "outputs": [],
   "source": [
    "#this tag finds the tag with the price in it!!!!\n",
    "span_tag = b.find('span', attrs={'id': re_tag}) \n",
    "# use find to return THE ONE AND ONLY span tags with an id that matches our regex\n",
    "# use findAll to find all matches"
   ]
  },
  {
   "cell_type": "code",
   "execution_count": null,
   "metadata": {
    "collapsed": false
   },
   "outputs": [],
   "source": [
    "quote = span_tag.text\n",
    "quote"
   ]
  },
  {
   "cell_type": "code",
   "execution_count": null,
   "metadata": {
    "collapsed": true
   },
   "outputs": [],
   "source": []
  },
  {
   "cell_type": "code",
   "execution_count": null,
   "metadata": {
    "collapsed": false
   },
   "outputs": [],
   "source": [
    "##### EXERCISE #####\n",
    "# Make a method  get_stock_price that takes in ANY stock ticker and grabs the current price\n",
    "# If the stock ticker doesn't exist, return -1\n",
    "# ticker = 'ge'\n",
    "def get_stock_price(ticker):\n",
    "    r = requests.get('http://finance.google.com/finance?q='+ticker)\n",
    "    b = BeautifulSoup(r.text, 'html.parser')\n",
    "#     b.prettify()\n",
    "    span = b.findAll('span')\n",
    "    re_tag2 = re.compile(\"ref_\\d+_1\")  ## What is up with this? what is the error?\n",
    "    span_tag = b.find('span', attrs={'id': re_tag})\n",
    "    quote = span_tag.text\n",
    "    if quote:\n",
    "        print quote\n",
    "        return quote\n",
    "    return -1.\n",
    "    \n",
    "get_stock_price('aapl')"
   ]
  },
  {
   "cell_type": "code",
   "execution_count": null,
   "metadata": {
    "collapsed": true
   },
   "outputs": [],
   "source": []
  },
  {
   "cell_type": "code",
   "execution_count": null,
   "metadata": {
    "collapsed": true
   },
   "outputs": [],
   "source": []
  },
  {
   "cell_type": "code",
   "execution_count": null,
   "metadata": {
    "collapsed": true
   },
   "outputs": [],
   "source": []
  },
  {
   "cell_type": "code",
   "execution_count": null,
   "metadata": {
    "collapsed": true
   },
   "outputs": [],
   "source": []
  },
  {
   "cell_type": "code",
   "execution_count": null,
   "metadata": {
    "collapsed": true
   },
   "outputs": [],
   "source": [
    "###### UFO #######"
   ]
  },
  {
   "cell_type": "code",
   "execution_count": 46,
   "metadata": {
    "collapsed": false
   },
   "outputs": [],
   "source": [
    "\n",
    "r = requests.get(\"http://www.nuforc.org/webreports/ndxe201604.html\")\n",
    "b = BeautifulSoup(r.text, \"html.parser\") ### The beautiful soup needs the html parser"
   ]
  },
  {
   "cell_type": "code",
   "execution_count": 47,
   "metadata": {
    "collapsed": false
   },
   "outputs": [
    {
     "data": {
      "text/plain": [
       "[<tr valign=\"TOP\">\\n<td><font color=\"#000000\" face=\"Calibri\" style=\"FONT-SIZE:11pt\"><a href=\"126/S126645.html\">4/1/16 16:00</a></font></td>\\n<td><font color=\"#000000\" face=\"Calibri\" style=\"FONT-SIZE:11pt\">North Ridgeville</font></td>\\n<td><font color=\"#000000\" face=\"Calibri\" style=\"FONT-SIZE:11pt\">OH</font></td>\\n<td><font color=\"#000000\" face=\"Calibri\" style=\"FONT-SIZE:11pt\"><br/></font></td>\\n<td><font color=\"#000000\" face=\"Calibri\" style=\"FONT-SIZE:11pt\">1</font></td>\\n<td><font color=\"#000000\" face=\"Calibri\" style=\"FONT-SIZE:11pt\">Orange balls.</font></td>\\n<td><font color=\"#000000\" face=\"Calibri\" style=\"FONT-SIZE:11pt\">4/1/16</font></td>\\n</tr>]"
      ]
     },
     "execution_count": 47,
     "metadata": {},
     "output_type": "execute_result"
    }
   ],
   "source": [
    "b.findAll('tr', attrs = {'valign':'TOP'})[:1]"
   ]
  },
  {
   "cell_type": "code",
   "execution_count": 48,
   "metadata": {
    "collapsed": false
   },
   "outputs": [
    {
     "name": "stdout",
     "output_type": "stream",
     "text": [
      "4/1/16 16:00\n",
      "4/1/16 16:00\n",
      "4/1/16 16:00\n",
      "North Ridgeville\n",
      "North Ridgeville\n",
      "OH\n",
      "OH\n",
      "\n",
      "\n",
      "\n",
      "1\n",
      "1\n",
      "Orange balls.\n",
      "Orange balls.\n",
      "4/1/16\n",
      "4/1/16\n"
     ]
    }
   ],
   "source": [
    "# Let's take a look at the first sighting\n",
    "for tr in b.findAll('tr', attrs = {'valign':'TOP'})[:1]:\n",
    "    # the findChildren method returns all children underneath it\n",
    "    for child in tr.findChildren():\n",
    "        print child.text\n",
    "        "
   ]
  },
  {
   "cell_type": "code",
   "execution_count": 49,
   "metadata": {
    "collapsed": true
   },
   "outputs": [],
   "source": [
    "# OK, it's a bit messy, Let's clean it up\n",
    "# Looks like the first element is the date, the 4th is the city, 6th if state, 8th is shape (this ones blank)\n",
    "# 13th is the summary"
   ]
  },
  {
   "cell_type": "code",
   "execution_count": 50,
   "metadata": {
    "collapsed": false
   },
   "outputs": [
    {
     "data": {
      "text/plain": [
       "{'City': [u'North Ridgeville', u'Salt Lake City', u'Port Orange', u'San Jose'],\n",
       " 'Date': [u'4/1/16 16:00', u'4/1/16 13:00', u'4/1/16 04:40', u'4/1/16 04:23'],\n",
       " 'Shape': [u'', u'Light', u'Triangle', u'Light'],\n",
       " 'State': [u'OH', u'UT', u'FL', u'CA'],\n",
       " 'Summary': [u'Orange balls.',\n",
       "  u'I was looking at the clear blue sky observing the spraying or contrails that were lingering there when I saw this group of bright objec',\n",
       "  u'As we were star gazing this weird triangle formed object with 4 circle lights had flew right over our heads not super far off the groun',\n",
       "  u'Here has been a bright light object above my apartment for three hours now.']}"
      ]
     },
     "execution_count": 50,
     "metadata": {},
     "output_type": "execute_result"
    }
   ],
   "source": [
    "ufo_sightings = {\n",
    "        'Date':[],\n",
    "        'City':[],\n",
    "        'State':[],\n",
    "        'Shape':[],\n",
    "        'Summary':[]\n",
    "    }\n",
    "\n",
    "for tr in b.findAll('tr', attrs = {'valign':'TOP'}):\n",
    "    # the findChildren method returns all children underneath it\n",
    "    ufo_sighting_info = []\n",
    "    for child in tr.findChildren():\n",
    "        ufo_sighting_info.append(child.text)\n",
    "    ufo_sightings['Date'].append(ufo_sighting_info[0])\n",
    "    ufo_sightings['City'].append(ufo_sighting_info[3])\n",
    "    ufo_sightings['State'].append(ufo_sighting_info[5])\n",
    "    ufo_sightings['Shape'].append(ufo_sighting_info[7])\n",
    "    ufo_sightings['Summary'].append(ufo_sighting_info[12])\n",
    "\n",
    "ufo_sightings"
   ]
  },
  {
   "cell_type": "code",
   "execution_count": 51,
   "metadata": {
    "collapsed": true
   },
   "outputs": [],
   "source": [
    "import pandas as pd"
   ]
  },
  {
   "cell_type": "code",
   "execution_count": 41,
   "metadata": {
    "collapsed": false
   },
   "outputs": [
    {
     "data": {
      "text/html": [
       "<div>\n",
       "<table border=\"1\" class=\"dataframe\">\n",
       "  <thead>\n",
       "    <tr style=\"text-align: right;\">\n",
       "      <th></th>\n",
       "      <th>City</th>\n",
       "      <th>Date</th>\n",
       "      <th>Shape</th>\n",
       "      <th>State</th>\n",
       "      <th>Summary</th>\n",
       "    </tr>\n",
       "  </thead>\n",
       "  <tbody>\n",
       "    <tr>\n",
       "      <th>0</th>\n",
       "      <td>North Ridgeville</td>\n",
       "      <td>4/1/16 16:00</td>\n",
       "      <td></td>\n",
       "      <td>OH</td>\n",
       "      <td>Orange balls.</td>\n",
       "    </tr>\n",
       "    <tr>\n",
       "      <th>1</th>\n",
       "      <td>Salt Lake City</td>\n",
       "      <td>4/1/16 13:00</td>\n",
       "      <td>Light</td>\n",
       "      <td>UT</td>\n",
       "      <td>I was looking at the clear blue sky observing ...</td>\n",
       "    </tr>\n",
       "    <tr>\n",
       "      <th>2</th>\n",
       "      <td>Port Orange</td>\n",
       "      <td>4/1/16 04:40</td>\n",
       "      <td>Triangle</td>\n",
       "      <td>FL</td>\n",
       "      <td>As we were star gazing this weird triangle for...</td>\n",
       "    </tr>\n",
       "    <tr>\n",
       "      <th>3</th>\n",
       "      <td>San Jose</td>\n",
       "      <td>4/1/16 04:23</td>\n",
       "      <td>Light</td>\n",
       "      <td>CA</td>\n",
       "      <td>Here has been a bright light object above my a...</td>\n",
       "    </tr>\n",
       "  </tbody>\n",
       "</table>\n",
       "</div>"
      ],
      "text/plain": [
       "               City          Date     Shape State  \\\n",
       "0  North Ridgeville  4/1/16 16:00              OH   \n",
       "1    Salt Lake City  4/1/16 13:00     Light    UT   \n",
       "2       Port Orange  4/1/16 04:40  Triangle    FL   \n",
       "3          San Jose  4/1/16 04:23     Light    CA   \n",
       "\n",
       "                                             Summary  \n",
       "0                                      Orange balls.  \n",
       "1  I was looking at the clear blue sky observing ...  \n",
       "2  As we were star gazing this weird triangle for...  \n",
       "3  Here has been a bright light object above my a...  "
      ]
     },
     "execution_count": 41,
     "metadata": {},
     "output_type": "execute_result"
    }
   ],
   "source": [
    "pd.DataFrame(ufo_sightings) # MAGIC"
   ]
  },
  {
   "cell_type": "code",
   "execution_count": null,
   "metadata": {
    "collapsed": true
   },
   "outputs": [],
   "source": []
  }
 ],
 "metadata": {
  "kernelspec": {
   "display_name": "Python 2",
   "language": "python",
   "name": "python2"
  },
  "language_info": {
   "codemirror_mode": {
    "name": "ipython",
    "version": 2
   },
   "file_extension": ".py",
   "mimetype": "text/x-python",
   "name": "python",
   "nbconvert_exporter": "python",
   "pygments_lexer": "ipython2",
   "version": "2.7.11"
  }
 },
 "nbformat": 4,
 "nbformat_minor": 0
}
