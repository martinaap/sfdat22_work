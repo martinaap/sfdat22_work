{
 "cells": [
  {
   "cell_type": "code",
   "execution_count": 29,
   "metadata": {
    "collapsed": true
   },
   "outputs": [],
   "source": [
    "'''\n",
    "Our KNN algorithm\n",
    "## in general, pick an odd k\n",
    "\n",
    "'''\n",
    "# imports go here\n",
    "import pandas as pd\n",
    "import numpy as np\n",
    "import scipy.spatial"
   ]
  },
  {
   "cell_type": "code",
   "execution_count": 31,
   "metadata": {
    "collapsed": false
   },
   "outputs": [
    {
     "data": {
      "text/plain": [
       "1.4142135623730951"
      ]
     },
     "execution_count": 31,
     "metadata": {},
     "output_type": "execute_result"
    }
   ],
   "source": [
    "'''\n",
    "Part 1: Setting it all up\n",
    "'''\n",
    "\n",
    "# we will need a euclidean_distance_algorithm that takes in\n",
    "# two numpy arrays, and calculates the \n",
    "# euclidean distance between them\n",
    "\n",
    "def euclidean_distance(np1, np2):\n",
    "    dist = scipy.spatial.distance.euclidean(np1, np2)\n",
    "    return dist\n",
    "\n",
    "euclidean_distance([1,1],[2,2])\n"
   ]
  },
  {
   "cell_type": "code",
   "execution_count": 32,
   "metadata": {
    "collapsed": true
   },
   "outputs": [],
   "source": [
    "'''\n",
    "Bring in the iris data from the web\n",
    "\n",
    "iris_data ==\n",
    "    2D numpy array of the four predictors of iris\n",
    "        plus the species\n",
    "'''\n",
    "\n",
    "iris_data = pd.read_csv('https://raw.githubusercontent.com/sinanuozdemir/sfdat22/master/data/iris.csv')\n",
    "# iris_data is a dataframe, but let's turn it into\n",
    "# a 2D numpy array\n",
    "# Hint: use .values to turn a dataframe into a 2d array\n",
    "\n",
    "iris_data = iris_data.values"
   ]
  },
  {
   "cell_type": "code",
   "execution_count": 33,
   "metadata": {
    "collapsed": false
   },
   "outputs": [
    {
     "data": {
      "text/plain": [
       "array([[5.1, 3.5, 1.4, 0.2, 'Iris-setosa'],\n",
       "       [4.9, 3.0, 1.4, 0.2, 'Iris-setosa'],\n",
       "       [4.7, 3.2, 1.3, 0.2, 'Iris-setosa'],\n",
       "       [4.6, 3.1, 1.5, 0.2, 'Iris-setosa'],\n",
       "       [5.0, 3.6, 1.4, 0.2, 'Iris-setosa'],\n",
       "       [5.4, 3.9, 1.7, 0.4, 'Iris-setosa'],\n",
       "       [4.6, 3.4, 1.4, 0.3, 'Iris-setosa'],\n",
       "       [5.0, 3.4, 1.5, 0.2, 'Iris-setosa'],\n",
       "       [4.4, 2.9, 1.4, 0.2, 'Iris-setosa'],\n",
       "       [4.9, 3.1, 1.5, 0.1, 'Iris-setosa'],\n",
       "       [5.4, 3.7, 1.5, 0.2, 'Iris-setosa'],\n",
       "       [4.8, 3.4, 1.6, 0.2, 'Iris-setosa'],\n",
       "       [4.8, 3.0, 1.4, 0.1, 'Iris-setosa'],\n",
       "       [4.3, 3.0, 1.1, 0.1, 'Iris-setosa'],\n",
       "       [5.8, 4.0, 1.2, 0.2, 'Iris-setosa'],\n",
       "       [5.7, 4.4, 1.5, 0.4, 'Iris-setosa'],\n",
       "       [5.4, 3.9, 1.3, 0.4, 'Iris-setosa'],\n",
       "       [5.1, 3.5, 1.4, 0.3, 'Iris-setosa'],\n",
       "       [5.7, 3.8, 1.7, 0.3, 'Iris-setosa'],\n",
       "       [5.1, 3.8, 1.5, 0.3, 'Iris-setosa'],\n",
       "       [5.4, 3.4, 1.7, 0.2, 'Iris-setosa'],\n",
       "       [5.1, 3.7, 1.5, 0.4, 'Iris-setosa'],\n",
       "       [4.6, 3.6, 1.0, 0.2, 'Iris-setosa'],\n",
       "       [5.1, 3.3, 1.7, 0.5, 'Iris-setosa'],\n",
       "       [4.8, 3.4, 1.9, 0.2, 'Iris-setosa'],\n",
       "       [5.0, 3.0, 1.6, 0.2, 'Iris-setosa'],\n",
       "       [5.0, 3.4, 1.6, 0.4, 'Iris-setosa'],\n",
       "       [5.2, 3.5, 1.5, 0.2, 'Iris-setosa'],\n",
       "       [5.2, 3.4, 1.4, 0.2, 'Iris-setosa'],\n",
       "       [4.7, 3.2, 1.6, 0.2, 'Iris-setosa'],\n",
       "       [4.8, 3.1, 1.6, 0.2, 'Iris-setosa'],\n",
       "       [5.4, 3.4, 1.5, 0.4, 'Iris-setosa'],\n",
       "       [5.2, 4.1, 1.5, 0.1, 'Iris-setosa'],\n",
       "       [5.5, 4.2, 1.4, 0.2, 'Iris-setosa'],\n",
       "       [4.9, 3.1, 1.5, 0.1, 'Iris-setosa'],\n",
       "       [5.0, 3.2, 1.2, 0.2, 'Iris-setosa'],\n",
       "       [5.5, 3.5, 1.3, 0.2, 'Iris-setosa'],\n",
       "       [4.9, 3.1, 1.5, 0.1, 'Iris-setosa'],\n",
       "       [4.4, 3.0, 1.3, 0.2, 'Iris-setosa'],\n",
       "       [5.1, 3.4, 1.5, 0.2, 'Iris-setosa'],\n",
       "       [5.0, 3.5, 1.3, 0.3, 'Iris-setosa'],\n",
       "       [4.5, 2.3, 1.3, 0.3, 'Iris-setosa'],\n",
       "       [4.4, 3.2, 1.3, 0.2, 'Iris-setosa'],\n",
       "       [5.0, 3.5, 1.6, 0.6, 'Iris-setosa'],\n",
       "       [5.1, 3.8, 1.9, 0.4, 'Iris-setosa'],\n",
       "       [4.8, 3.0, 1.4, 0.3, 'Iris-setosa'],\n",
       "       [5.1, 3.8, 1.6, 0.2, 'Iris-setosa'],\n",
       "       [4.6, 3.2, 1.4, 0.2, 'Iris-setosa'],\n",
       "       [5.3, 3.7, 1.5, 0.2, 'Iris-setosa'],\n",
       "       [5.0, 3.3, 1.4, 0.2, 'Iris-setosa'],\n",
       "       [7.0, 3.2, 4.7, 1.4, 'Iris-versicolor'],\n",
       "       [6.4, 3.2, 4.5, 1.5, 'Iris-versicolor'],\n",
       "       [6.9, 3.1, 4.9, 1.5, 'Iris-versicolor'],\n",
       "       [5.5, 2.3, 4.0, 1.3, 'Iris-versicolor'],\n",
       "       [6.5, 2.8, 4.6, 1.5, 'Iris-versicolor'],\n",
       "       [5.7, 2.8, 4.5, 1.3, 'Iris-versicolor'],\n",
       "       [6.3, 3.3, 4.7, 1.6, 'Iris-versicolor'],\n",
       "       [4.9, 2.4, 3.3, 1.0, 'Iris-versicolor'],\n",
       "       [6.6, 2.9, 4.6, 1.3, 'Iris-versicolor'],\n",
       "       [5.2, 2.7, 3.9, 1.4, 'Iris-versicolor'],\n",
       "       [5.0, 2.0, 3.5, 1.0, 'Iris-versicolor'],\n",
       "       [5.9, 3.0, 4.2, 1.5, 'Iris-versicolor'],\n",
       "       [6.0, 2.2, 4.0, 1.0, 'Iris-versicolor'],\n",
       "       [6.1, 2.9, 4.7, 1.4, 'Iris-versicolor'],\n",
       "       [5.6, 2.9, 3.6, 1.3, 'Iris-versicolor'],\n",
       "       [6.7, 3.1, 4.4, 1.4, 'Iris-versicolor'],\n",
       "       [5.6, 3.0, 4.5, 1.5, 'Iris-versicolor'],\n",
       "       [5.8, 2.7, 4.1, 1.0, 'Iris-versicolor'],\n",
       "       [6.2, 2.2, 4.5, 1.5, 'Iris-versicolor'],\n",
       "       [5.6, 2.5, 3.9, 1.1, 'Iris-versicolor'],\n",
       "       [5.9, 3.2, 4.8, 1.8, 'Iris-versicolor'],\n",
       "       [6.1, 2.8, 4.0, 1.3, 'Iris-versicolor'],\n",
       "       [6.3, 2.5, 4.9, 1.5, 'Iris-versicolor'],\n",
       "       [6.1, 2.8, 4.7, 1.2, 'Iris-versicolor'],\n",
       "       [6.4, 2.9, 4.3, 1.3, 'Iris-versicolor'],\n",
       "       [6.6, 3.0, 4.4, 1.4, 'Iris-versicolor'],\n",
       "       [6.8, 2.8, 4.8, 1.4, 'Iris-versicolor'],\n",
       "       [6.7, 3.0, 5.0, 1.7, 'Iris-versicolor'],\n",
       "       [6.0, 2.9, 4.5, 1.5, 'Iris-versicolor'],\n",
       "       [5.7, 2.6, 3.5, 1.0, 'Iris-versicolor'],\n",
       "       [5.5, 2.4, 3.8, 1.1, 'Iris-versicolor'],\n",
       "       [5.5, 2.4, 3.7, 1.0, 'Iris-versicolor'],\n",
       "       [5.8, 2.7, 3.9, 1.2, 'Iris-versicolor'],\n",
       "       [6.0, 2.7, 5.1, 1.6, 'Iris-versicolor'],\n",
       "       [5.4, 3.0, 4.5, 1.5, 'Iris-versicolor'],\n",
       "       [6.0, 3.4, 4.5, 1.6, 'Iris-versicolor'],\n",
       "       [6.7, 3.1, 4.7, 1.5, 'Iris-versicolor'],\n",
       "       [6.3, 2.3, 4.4, 1.3, 'Iris-versicolor'],\n",
       "       [5.6, 3.0, 4.1, 1.3, 'Iris-versicolor'],\n",
       "       [5.5, 2.5, 4.0, 1.3, 'Iris-versicolor'],\n",
       "       [5.5, 2.6, 4.4, 1.2, 'Iris-versicolor'],\n",
       "       [6.1, 3.0, 4.6, 1.4, 'Iris-versicolor'],\n",
       "       [5.8, 2.6, 4.0, 1.2, 'Iris-versicolor'],\n",
       "       [5.0, 2.3, 3.3, 1.0, 'Iris-versicolor'],\n",
       "       [5.6, 2.7, 4.2, 1.3, 'Iris-versicolor'],\n",
       "       [5.7, 3.0, 4.2, 1.2, 'Iris-versicolor'],\n",
       "       [5.7, 2.9, 4.2, 1.3, 'Iris-versicolor'],\n",
       "       [6.2, 2.9, 4.3, 1.3, 'Iris-versicolor'],\n",
       "       [5.1, 2.5, 3.0, 1.1, 'Iris-versicolor'],\n",
       "       [5.7, 2.8, 4.1, 1.3, 'Iris-versicolor'],\n",
       "       [6.3, 3.3, 6.0, 2.5, 'Iris-virginica'],\n",
       "       [5.8, 2.7, 5.1, 1.9, 'Iris-virginica'],\n",
       "       [7.1, 3.0, 5.9, 2.1, 'Iris-virginica'],\n",
       "       [6.3, 2.9, 5.6, 1.8, 'Iris-virginica'],\n",
       "       [6.5, 3.0, 5.8, 2.2, 'Iris-virginica'],\n",
       "       [7.6, 3.0, 6.6, 2.1, 'Iris-virginica'],\n",
       "       [4.9, 2.5, 4.5, 1.7, 'Iris-virginica'],\n",
       "       [7.3, 2.9, 6.3, 1.8, 'Iris-virginica'],\n",
       "       [6.7, 2.5, 5.8, 1.8, 'Iris-virginica'],\n",
       "       [7.2, 3.6, 6.1, 2.5, 'Iris-virginica'],\n",
       "       [6.5, 3.2, 5.1, 2.0, 'Iris-virginica'],\n",
       "       [6.4, 2.7, 5.3, 1.9, 'Iris-virginica'],\n",
       "       [6.8, 3.0, 5.5, 2.1, 'Iris-virginica'],\n",
       "       [5.7, 2.5, 5.0, 2.0, 'Iris-virginica'],\n",
       "       [5.8, 2.8, 5.1, 2.4, 'Iris-virginica'],\n",
       "       [6.4, 3.2, 5.3, 2.3, 'Iris-virginica'],\n",
       "       [6.5, 3.0, 5.5, 1.8, 'Iris-virginica'],\n",
       "       [7.7, 3.8, 6.7, 2.2, 'Iris-virginica'],\n",
       "       [7.7, 2.6, 6.9, 2.3, 'Iris-virginica'],\n",
       "       [6.0, 2.2, 5.0, 1.5, 'Iris-virginica'],\n",
       "       [6.9, 3.2, 5.7, 2.3, 'Iris-virginica'],\n",
       "       [5.6, 2.8, 4.9, 2.0, 'Iris-virginica'],\n",
       "       [7.7, 2.8, 6.7, 2.0, 'Iris-virginica'],\n",
       "       [6.3, 2.7, 4.9, 1.8, 'Iris-virginica'],\n",
       "       [6.7, 3.3, 5.7, 2.1, 'Iris-virginica'],\n",
       "       [7.2, 3.2, 6.0, 1.8, 'Iris-virginica'],\n",
       "       [6.2, 2.8, 4.8, 1.8, 'Iris-virginica'],\n",
       "       [6.1, 3.0, 4.9, 1.8, 'Iris-virginica'],\n",
       "       [6.4, 2.8, 5.6, 2.1, 'Iris-virginica'],\n",
       "       [7.2, 3.0, 5.8, 1.6, 'Iris-virginica'],\n",
       "       [7.4, 2.8, 6.1, 1.9, 'Iris-virginica'],\n",
       "       [7.9, 3.8, 6.4, 2.0, 'Iris-virginica'],\n",
       "       [6.4, 2.8, 5.6, 2.2, 'Iris-virginica'],\n",
       "       [6.3, 2.8, 5.1, 1.5, 'Iris-virginica'],\n",
       "       [6.1, 2.6, 5.6, 1.4, 'Iris-virginica'],\n",
       "       [7.7, 3.0, 6.1, 2.3, 'Iris-virginica'],\n",
       "       [6.3, 3.4, 5.6, 2.4, 'Iris-virginica'],\n",
       "       [6.4, 3.1, 5.5, 1.8, 'Iris-virginica'],\n",
       "       [6.0, 3.0, 4.8, 1.8, 'Iris-virginica'],\n",
       "       [6.9, 3.1, 5.4, 2.1, 'Iris-virginica'],\n",
       "       [6.7, 3.1, 5.6, 2.4, 'Iris-virginica'],\n",
       "       [6.9, 3.1, 5.1, 2.3, 'Iris-virginica'],\n",
       "       [5.8, 2.7, 5.1, 1.9, 'Iris-virginica'],\n",
       "       [6.8, 3.2, 5.9, 2.3, 'Iris-virginica'],\n",
       "       [6.7, 3.3, 5.7, 2.5, 'Iris-virginica'],\n",
       "       [6.7, 3.0, 5.2, 2.3, 'Iris-virginica'],\n",
       "       [6.3, 2.5, 5.0, 1.9, 'Iris-virginica'],\n",
       "       [6.5, 3.0, 5.2, 2.0, 'Iris-virginica'],\n",
       "       [6.2, 3.4, 5.4, 2.3, 'Iris-virginica'],\n",
       "       [5.9, 3.0, 5.1, 1.8, 'Iris-virginica']], dtype=object)"
      ]
     },
     "execution_count": 33,
     "metadata": {},
     "output_type": "execute_result"
    }
   ],
   "source": [
    "# Question: in terms of machine learning:\n",
    "#   a. the first four columns are called what?\n",
    "#   b. the species column is called what?\n",
    "\n",
    "'''\n",
    "array([[5.1, 3.5, 1.4, 0.2, 'Iris-setosa'],\n",
    "       [4.9, 3.0, 1.4, 0.2, 'Iris-setosa'],\n",
    "       [4.7, 3.2, 1.3, 0.2, 'Iris-setosa'],\n",
    "       ... ...\n",
    "       [6.2, 3.4, 5.4, 2.3, 'Iris-virginica'],\n",
    "       [5.9, 3.0, 5.1, 1.8, 'Iris-virginica']], dtype=object)\n",
    "'''\n",
    "\n",
    "iris_data\n",
    "\n"
   ]
  },
  {
   "cell_type": "code",
   "execution_count": 34,
   "metadata": {
    "collapsed": true
   },
   "outputs": [],
   "source": [
    "'''\n",
    "Part 2: Predictions\n",
    "\n",
    "Before we jump into making a general function,\n",
    "let's try to predict \n",
    "\n",
    "unknown = [ 6.3,  3.1 ,  5.1,  2.4] with 3 neighbors\n",
    "'''\n",
    "\n",
    "# define our variables\n",
    "unknown = [ 6.3,  3.1 ,  5.1,  2.4]\n",
    "k = 3"
   ]
  },
  {
   "cell_type": "code",
   "execution_count": 72,
   "metadata": {
    "collapsed": false
   },
   "outputs": [
    {
     "data": {
      "text/plain": [
       "array([[4.486646854834911, 'Iris-setosa'],\n",
       "       [4.527692569068708, 'Iris-setosa'],\n",
       "       [4.674398357008097, 'Iris-setosa'],\n",
       "       [4.548626166217663, 'Iris-setosa'],\n",
       "       [4.524378410345447, 'Iris-setosa'],\n",
       "       [4.124318125460256, 'Iris-setosa'],\n",
       "       [4.591296113299598, 'Iris-setosa'],\n",
       "       [4.4249293779675165, 'Iris-setosa'],\n",
       "       [4.709564735726646, 'Iris-setosa'],\n",
       "       [4.495553358597804, 'Iris-setosa'],\n",
       "       [4.355456348076513, 'Iris-setosa'],\n",
       "       [4.4079473681068375, 'Iris-setosa'],\n",
       "       [4.608687448721164, 'Iris-setosa'],\n",
       "       [5.029910535983716, 'Iris-setosa'],\n",
       "       [4.594562003064056, 'Iris-setosa'],\n",
       "       [4.360045871318328, 'Iris-setosa'],\n",
       "       [4.459820624195552, 'Iris-setosa'],\n",
       "       [4.438468204234429, 'Iris-setosa'],\n",
       "       [4.1012193308819755, 'Iris-setosa'],\n",
       "       [4.393176527297759, 'Iris-setosa'],\n",
       "       [4.159326868617083, 'Iris-setosa'],\n",
       "       [4.331281565541543, 'Iris-setosa'],\n",
       "       [4.978955713801841, 'Iris-setosa'],\n",
       "       [4.080441152620633, 'Iris-setosa'],\n",
       "       [4.173727350941841, 'Iris-setosa'],\n",
       "       [4.334743360338648, 'Iris-setosa'],\n",
       "       [4.246174749112428, 'Iris-setosa'],\n",
       "       [4.378355855797927, 'Iris-setosa'],\n",
       "       [4.453088815642463, 'Iris-setosa'],\n",
       "       [4.433959855479072, 'Iris-setosa'],\n",
       "       [4.397726685459204, 'Iris-setosa'],\n",
       "       [4.226109321823087, 'Iris-setosa'],\n",
       "       [4.523273151159456, 'Iris-setosa'],\n",
       "       [4.514421336118284, 'Iris-setosa'],\n",
       "       [4.495553358597804, 'Iris-setosa'],\n",
       "       [4.663689526544407, 'Iris-setosa'],\n",
       "       [4.481071300481616, 'Iris-setosa'],\n",
       "       [4.495553358597804, 'Iris-setosa'],\n",
       "       [4.78539444560216, 'Iris-setosa'],\n",
       "       [4.396589587396122, 'Iris-setosa'],\n",
       "       [4.54972526643093, 'Iris-setosa'],\n",
       "       [4.767598976424087, 'Iris-setosa'],\n",
       "       [4.78539444560216, 'Iris-setosa'],\n",
       "       [4.164132562731402, 'Iris-setosa'],\n",
       "       [4.02119385257662, 'Iris-setosa'],\n",
       "       [4.512205669071391, 'Iris-setosa'],\n",
       "       [4.361192497471305, 'Iris-setosa'],\n",
       "       [4.629254799641083, 'Iris-setosa'],\n",
       "       [4.377213725647858, 'Iris-setosa'],\n",
       "       [4.501110973970759, 'Iris-setosa'],\n",
       "       [1.2884098726725126, 'Iris-versicolor'],\n",
       "       [1.0908712114635712, 'Iris-versicolor'],\n",
       "       [1.1, 'Iris-versicolor'],\n",
       "       [1.9235384061671343, 'Iris-versicolor'],\n",
       "       [1.0908712114635715, 'Iris-versicolor'],\n",
       "       [1.4212670403551892, 'Iris-versicolor'],\n",
       "       [0.9165151389911675, 'Iris-versicolor'],\n",
       "       [2.7658633371878656, 'Iris-versicolor'],\n",
       "       [1.260952021291849, 'Iris-versicolor'],\n",
       "       [1.9519221295943132, 'Iris-versicolor'],\n",
       "       [2.7239676943752467, 'Iris-versicolor'],\n",
       "       [1.3379088160259647, 'Iris-versicolor'],\n",
       "       [2.017424100183201, 'Iris-versicolor'],\n",
       "       [1.1135528725660042, 'Iris-versicolor'],\n",
       "       [1.9974984355438175, 'Iris-versicolor'],\n",
       "       [1.2845232578665127, 'Iris-versicolor'],\n",
       "       [1.2922847983320085, 'Iris-versicolor'],\n",
       "       [1.835755975068582, 'Iris-versicolor'],\n",
       "       [1.410673597966588, 'Iris-versicolor'],\n",
       "       [1.994993734326, 'Iris-versicolor'],\n",
       "       [0.7874007874011807, 'Iris-versicolor'],\n",
       "       [1.596871942267131, 'Iris-versicolor'],\n",
       "       [1.0999999999999999, 'Iris-versicolor'],\n",
       "       [1.3152946437965904, 'Iris-versicolor'],\n",
       "       [1.3784048752090219, 'Iris-versicolor'],\n",
       "       [1.2609520212918488, 'Iris-versicolor'],\n",
       "       [1.1958260743101399, 'Iris-versicolor'],\n",
       "       [0.8185352771872451, 'Iris-versicolor'],\n",
       "       [1.1401754250991376, 'Iris-versicolor'],\n",
       "       [2.2649503305812244, 'Iris-versicolor'],\n",
       "       [2.1236760581595298, 'Iris-versicolor'],\n",
       "       [2.2472205054244228, 'Iris-versicolor'],\n",
       "       [1.8138357147217052, 'Iris-versicolor'],\n",
       "       [0.9433981132056601, 'Iris-versicolor'],\n",
       "       [1.4106735979665879, 'Iris-versicolor'],\n",
       "       [1.0862780491200212, 'Iris-versicolor'],\n",
       "       [1.0630145812734648, 'Iris-versicolor'],\n",
       "       [1.5297058540778352, 'Iris-versicolor'],\n",
       "       [1.6462077633154328, 'Iris-versicolor'],\n",
       "       [1.8493242008906927, 'Iris-versicolor'],\n",
       "       [1.679285562374666, 'Iris-versicolor'],\n",
       "       [1.140175425099138, 'Iris-versicolor'],\n",
       "       [1.7748239349298847, 'Iris-versicolor'],\n",
       "       [2.7440845468024486, 'Iris-versicolor'],\n",
       "       [1.634013463836819, 'Iris-versicolor'],\n",
       "       [1.618641405623864, 'Iris-versicolor'],\n",
       "       [1.555634918610404, 'Iris-versicolor'],\n",
       "       [1.3784048752090219, 'Iris-versicolor'],\n",
       "       [2.810693864511039, 'Iris-versicolor'],\n",
       "       [1.630950643030009, 'Iris-versicolor'],\n",
       "       [0.9273618495495707, 'Iris-virginica'],\n",
       "       [0.812403840463596, 'Iris-virginica'],\n",
       "       [1.1747340124470733, 'Iris-virginica'],\n",
       "       [0.8062257748298549, 'Iris-virginica'],\n",
       "       [0.761577310586391, 'Iris-virginica'],\n",
       "       [2.009975124224178, 'Iris-virginica'],\n",
       "       [1.780449381476485, 'Iris-virginica'],\n",
       "       [1.6852299546352718, 'Iris-virginica'],\n",
       "       [1.1704699910719627, 'Iris-virginica'],\n",
       "       [1.4387494569938162, 'Iris-virginica'],\n",
       "       [0.45825756949558405, 'Iris-virginica'],\n",
       "       [0.6782329983125269, 'Iris-virginica'],\n",
       "       [0.7141428428542851, 'Iris-virginica'],\n",
       "       [0.9433981132056601, 'Iris-virginica'],\n",
       "       [0.5830951894845302, 'Iris-virginica'],\n",
       "       [0.26457513110645947, 'Iris-virginica'],\n",
       "       [0.7549834435270751, 'Iris-virginica'],\n",
       "       [2.2472205054244236, 'Iris-virginica'],\n",
       "       [2.336664289109585, 'Iris-virginica'],\n",
       "       [1.3114877048604, 'Iris-virginica'],\n",
       "       [0.8602325267042634, 'Iris-virginica'],\n",
       "       [0.8831760866327847, 'Iris-virginica'],\n",
       "       [2.184032966784156, 'Iris-virginica'],\n",
       "       [0.7483314773547879, 'Iris-virginica'],\n",
       "       [0.8062257748298554, 'Iris-virginica'],\n",
       "       [1.4106735979665888, 'Iris-virginica'],\n",
       "       [0.7416198487095662, 'Iris-virginica'],\n",
       "       [0.6708203932499366, 'Iris-virginica'],\n",
       "       [0.66332495807108, 'Iris-virginica'],\n",
       "       [1.3964240043768943, 'Iris-virginica'],\n",
       "       [1.5968719422671316, 'Iris-virginica'],\n",
       "       [2.2135943621178664, 'Iris-virginica'],\n",
       "       [0.6244997998398399, 'Iris-virginica'],\n",
       "       [0.9486832980505138, 'Iris-virginica'],\n",
       "       [1.2409673645990857, 'Iris-virginica'],\n",
       "       [1.7262676501632073, 'Iris-virginica'],\n",
       "       [0.58309518948453, 'Iris-virginica'],\n",
       "       [0.728010988928052, 'Iris-virginica'],\n",
       "       [0.741619848709566, 'Iris-virginica'],\n",
       "       [0.734846922834954, 'Iris-virginica'],\n",
       "       [0.6403124237432851, 'Iris-virginica'],\n",
       "       [0.6082762530298225, 'Iris-virginica'],\n",
       "       [0.812403840463596, 'Iris-virginica'],\n",
       "       [0.9539392014169462, 'Iris-virginica'],\n",
       "       [0.7549834435270755, 'Iris-virginica'],\n",
       "       [0.43588989435406783, 'Iris-virginica'],\n",
       "       [0.7874007874011811, 'Iris-virginica'],\n",
       "       [0.4690415759823431, 'Iris-virginica'],\n",
       "       [0.4472135954999582, 'Iris-virginica'],\n",
       "       [0.7280109889280514, 'Iris-virginica']], dtype=object)"
      ]
     },
     "execution_count": 72,
     "metadata": {},
     "output_type": "execute_result"
    }
   ],
   "source": [
    "# Make a a list \"distances\" consisting of tuples\n",
    "# Each tuple should be\n",
    "# (euc_distance(unknown, data_point), species)\n",
    "# for each data_point in iris_data\n",
    "distances = []*len(iris_data)\n",
    "'''\n",
    "== [(4.4866468548349108, 'setosa'),\n",
    " (4.5276925690687078, 'setosa'),\n",
    " (4.6743983570080969, 'setosa'),\n",
    " ...\n",
    " (0.44721359549995821, 'virginica'),\n",
    " (0.72801098892805138, 'virginica')]\n",
    "\n",
    "'''\n",
    "dist = iris_data[:,0:4]\n",
    "distances = [euclidean_distance(unknown, i) for i in dist] \n",
    "distances = np.vstack((np.array(distances),iris_data[:,-1])).T\n",
    "distances"
   ]
  },
  {
   "cell_type": "code",
   "execution_count": 82,
   "metadata": {
    "collapsed": false
   },
   "outputs": [
    {
     "data": {
      "text/plain": [
       "[(2, 9), (5, 4), (3, 3)]"
      ]
     },
     "execution_count": 82,
     "metadata": {},
     "output_type": "execute_result"
    }
   ],
   "source": [
    "# Grab the nearest k neighbors\n",
    "\n",
    "# Now we need to take the most frequently occuring flower\n",
    "# in those k neighbors\n",
    "# To do this, Make a function that takes in a list, and returns the most commonly\n",
    "# occuring object. If there is a tie, return either of them\n",
    "\n",
    "# given a list l, this code will spit back the mode\n",
    "from collections import Counter\n",
    "l = [1,2,3,4,3,2,2,5,8,2,2,2,5,9,2,2,5,5,3,2]\n",
    "def most_frequent(l,k):\n",
    "    d = Counter(l)\n",
    "    return d.most_common(k)\n",
    "\n",
    "most_frequent(l,k)"
   ]
  },
  {
   "cell_type": "code",
   "execution_count": 87,
   "metadata": {
    "collapsed": false
   },
   "outputs": [
    {
     "data": {
      "text/plain": [
       "[(4.495553358597804, 3), (0.9433981132056601, 2), (1.3784048752090219, 2)]"
      ]
     },
     "execution_count": 87,
     "metadata": {},
     "output_type": "execute_result"
    }
   ],
   "source": [
    "# Create a list called nearest with the K nearest neighbors\n",
    "nearest = most_frequent(distances[:,0],k)\n",
    "nearest"
   ]
  },
  {
   "cell_type": "code",
   "execution_count": null,
   "metadata": {
    "collapsed": true
   },
   "outputs": [],
   "source": []
  },
  {
   "cell_type": "code",
   "execution_count": 13,
   "metadata": {
    "collapsed": false
   },
   "outputs": [
    {
     "data": {
      "text/plain": [
       "'Iris-virginica'"
      ]
     },
     "execution_count": 13,
     "metadata": {},
     "output_type": "execute_result"
    }
   ],
   "source": [
    "# use it to find the most frequent occuring flower in nearest\n",
    "# note that the species is in the 1th index\n",
    "most_frequent([n[1] for n in nearest])"
   ]
  },
  {
   "cell_type": "code",
   "execution_count": 21,
   "metadata": {
    "collapsed": false
   },
   "outputs": [
    {
     "data": {
      "text/plain": [
       "'Iris-virginica'"
      ]
     },
     "execution_count": 21,
     "metadata": {},
     "output_type": "execute_result"
    }
   ],
   "source": [
    "'''\n",
    "Time to put it in a function so we \n",
    "can apply the prediction\n",
    "to each row in our data set!\n",
    "'''    \n",
    "# will default to 3 neighbors\n",
    "'''\n",
    "    Input:\n",
    "        unknown  == four attributes of an unknown flower\n",
    "        k        == the number of neighbors used\n",
    "    Output:\n",
    "        A prediction of the species of flower (str)\n",
    "'''\n",
    "def predict(unknown, k = 3):\n",
    "    pass\n",
    "\n",
    "\n",
    "predict([ 5.8,  2.7,  5.1,  1.9]) # == 'virginica'\n"
   ]
  },
  {
   "cell_type": "code",
   "execution_count": 23,
   "metadata": {
    "collapsed": false
   },
   "outputs": [
    {
     "data": {
      "text/plain": [
       "array(['Iris-setosa', 'Iris-setosa', 'Iris-setosa', 'Iris-setosa',\n",
       "       'Iris-setosa', 'Iris-setosa', 'Iris-setosa', 'Iris-setosa',\n",
       "       'Iris-setosa', 'Iris-setosa', 'Iris-setosa', 'Iris-setosa',\n",
       "       'Iris-setosa', 'Iris-setosa', 'Iris-setosa', 'Iris-setosa',\n",
       "       'Iris-setosa', 'Iris-setosa', 'Iris-setosa', 'Iris-setosa',\n",
       "       'Iris-setosa', 'Iris-setosa', 'Iris-setosa', 'Iris-setosa',\n",
       "       'Iris-setosa', 'Iris-setosa', 'Iris-setosa', 'Iris-setosa',\n",
       "       'Iris-setosa', 'Iris-setosa', 'Iris-setosa', 'Iris-setosa',\n",
       "       'Iris-setosa', 'Iris-setosa', 'Iris-setosa', 'Iris-setosa',\n",
       "       'Iris-setosa', 'Iris-setosa', 'Iris-setosa', 'Iris-setosa',\n",
       "       'Iris-setosa', 'Iris-setosa', 'Iris-setosa', 'Iris-setosa',\n",
       "       'Iris-setosa', 'Iris-setosa', 'Iris-setosa', 'Iris-setosa',\n",
       "       'Iris-setosa', 'Iris-setosa', 'Iris-versicolor', 'Iris-versicolor',\n",
       "       'Iris-versicolor', 'Iris-versicolor', 'Iris-versicolor',\n",
       "       'Iris-versicolor', 'Iris-versicolor', 'Iris-versicolor',\n",
       "       'Iris-versicolor', 'Iris-versicolor', 'Iris-versicolor',\n",
       "       'Iris-versicolor', 'Iris-versicolor', 'Iris-versicolor',\n",
       "       'Iris-versicolor', 'Iris-versicolor', 'Iris-versicolor',\n",
       "       'Iris-versicolor', 'Iris-versicolor', 'Iris-versicolor',\n",
       "       'Iris-virginica', 'Iris-versicolor', 'Iris-virginica',\n",
       "       'Iris-versicolor', 'Iris-versicolor', 'Iris-versicolor',\n",
       "       'Iris-versicolor', 'Iris-versicolor', 'Iris-versicolor',\n",
       "       'Iris-versicolor', 'Iris-versicolor', 'Iris-versicolor',\n",
       "       'Iris-versicolor', 'Iris-virginica', 'Iris-versicolor',\n",
       "       'Iris-versicolor', 'Iris-versicolor', 'Iris-versicolor',\n",
       "       'Iris-versicolor', 'Iris-versicolor', 'Iris-versicolor',\n",
       "       'Iris-versicolor', 'Iris-versicolor', 'Iris-versicolor',\n",
       "       'Iris-versicolor', 'Iris-versicolor', 'Iris-versicolor',\n",
       "       'Iris-versicolor', 'Iris-versicolor', 'Iris-versicolor',\n",
       "       'Iris-virginica', 'Iris-virginica', 'Iris-virginica',\n",
       "       'Iris-virginica', 'Iris-virginica', 'Iris-virginica',\n",
       "       'Iris-versicolor', 'Iris-virginica', 'Iris-virginica',\n",
       "       'Iris-virginica', 'Iris-virginica', 'Iris-virginica',\n",
       "       'Iris-virginica', 'Iris-virginica', 'Iris-virginica',\n",
       "       'Iris-virginica', 'Iris-virginica', 'Iris-virginica',\n",
       "       'Iris-virginica', 'Iris-versicolor', 'Iris-virginica',\n",
       "       'Iris-virginica', 'Iris-virginica', 'Iris-virginica',\n",
       "       'Iris-virginica', 'Iris-virginica', 'Iris-virginica',\n",
       "       'Iris-virginica', 'Iris-virginica', 'Iris-virginica',\n",
       "       'Iris-virginica', 'Iris-virginica', 'Iris-virginica',\n",
       "       'Iris-versicolor', 'Iris-virginica', 'Iris-virginica',\n",
       "       'Iris-virginica', 'Iris-virginica', 'Iris-virginica',\n",
       "       'Iris-virginica', 'Iris-virginica', 'Iris-virginica',\n",
       "       'Iris-virginica', 'Iris-virginica', 'Iris-virginica',\n",
       "       'Iris-virginica', 'Iris-virginica', 'Iris-virginica',\n",
       "       'Iris-virginica', 'Iris-virginica'], \n",
       "      dtype='|S15')"
      ]
     },
     "execution_count": 23,
     "metadata": {},
     "output_type": "execute_result"
    }
   ],
   "source": [
    "'''\n",
    "Putting it all together\n",
    "'''\n",
    "\n",
    "# predict each row\n",
    "# Note I use row[-1] because the last element of each row \n",
    "# is the actual species\n",
    "predictions = np.array([predict(row[:4]) for row in iris_data])\n",
    "predictions"
   ]
  },
  {
   "cell_type": "code",
   "execution_count": 24,
   "metadata": {
    "collapsed": false
   },
   "outputs": [
    {
     "data": {
      "text/plain": [
       "0.95999999999999996"
      ]
     },
     "execution_count": 24,
     "metadata": {},
     "output_type": "execute_result"
    }
   ],
   "source": [
    "# this is the last column of the iris_data\n",
    "actual = np.array([row[-1] for row in iris_data])\n",
    "\n",
    "# accuracy of the model\n",
    "np.mean(predictions == actual)"
   ]
  },
  {
   "cell_type": "code",
   "execution_count": 25,
   "metadata": {
    "collapsed": false
   },
   "outputs": [
    {
     "data": {
      "text/plain": [
       "0.96666666666666667"
      ]
     },
     "execution_count": 25,
     "metadata": {},
     "output_type": "execute_result"
    }
   ],
   "source": [
    "# now with k == 5\n",
    "predictions = np.array([predict(row[:4], k = 5) for row in iris_data])\n",
    "\n",
    "\n",
    "# this is the last column of the iris_data\n",
    "actual = np.array([row[-1] for row in iris_data])\n",
    "\n",
    "# accuracy of the model\n",
    "np.mean(predictions == actual)"
   ]
  },
  {
   "cell_type": "code",
   "execution_count": 26,
   "metadata": {
    "collapsed": false
   },
   "outputs": [
    {
     "data": {
      "text/plain": [
       "0.97999999999999998"
      ]
     },
     "execution_count": 26,
     "metadata": {},
     "output_type": "execute_result"
    }
   ],
   "source": [
    "# now with k == 2\n",
    "predictions = np.array([predict(row[:4], k = 2) for row in iris_data])\n",
    "\n",
    "\n",
    "# this is the last column of the iris_data\n",
    "actual = np.array([row[-1] for row in iris_data])\n",
    "\n",
    "# accuracy of the model\n",
    "np.mean(predictions == actual)"
   ]
  },
  {
   "cell_type": "code",
   "execution_count": 27,
   "metadata": {
    "collapsed": false
   },
   "outputs": [
    {
     "data": {
      "text/plain": [
       "1.0"
      ]
     },
     "execution_count": 27,
     "metadata": {},
     "output_type": "execute_result"
    }
   ],
   "source": [
    "# now with k == 1\n",
    "predictions = np.array([predict(row[:4], k = 1) for row in iris_data])\n",
    "\n",
    "\n",
    "# this is the last column of the iris_data\n",
    "actual = np.array([row[-1] for row in iris_data])\n",
    "\n",
    "# accuracy of the model\n",
    "np.mean(predictions == actual)\n",
    "\n",
    "WHAAATTTTTT"
   ]
  },
  {
   "cell_type": "code",
   "execution_count": null,
   "metadata": {
    "collapsed": true
   },
   "outputs": [],
   "source": []
  }
 ],
 "metadata": {
  "kernelspec": {
   "display_name": "Python 2",
   "language": "python",
   "name": "python2"
  },
  "language_info": {
   "codemirror_mode": {
    "name": "ipython",
    "version": 2
   },
   "file_extension": ".py",
   "mimetype": "text/x-python",
   "name": "python",
   "nbconvert_exporter": "python",
   "pygments_lexer": "ipython2",
   "version": "2.7.11"
  }
 },
 "nbformat": 4,
 "nbformat_minor": 0
}
