{
 "cells": [
  {
   "cell_type": "code",
   "execution_count": 2,
   "metadata": {
    "collapsed": false
   },
   "outputs": [],
   "source": [
    "import tweepy       # python wrapper for twitter api\n",
    "import json\n",
    "import time\n",
    "import requests\n",
    "# step 0, get your own twitter credentials!"
   ]
  },
  {
   "cell_type": "code",
   "execution_count": 3,
   "metadata": {
    "collapsed": false
   },
   "outputs": [],
   "source": [
    "# this is my own personal twitter api information\n",
    "# if you could be so kind as to sign up yourself on both twitter and mashape that'd be great :)\n",
    "# It's FREEEEEEE\n",
    "api_key = 'U9BPfQD0bwoJIsc3gh8NLRRfM'#'g5uPIpw80nULQI1gfklv2zrh4'\n",
    "api_secret = 'VYTWge43sLqUroXmtskd9AzeyVmkPIB9pzhFPwYCAFXsvxMCHK'#'cOWvNWxYvPmEZ0ArZVeeVVvJu41QYHdUS2GpqIKtSQ1isd5PJy'\n",
    "access_token = '53217283-VBUu7EDMUS9Ih4sqoI0w8MfvOBo0Ill0s1DwDxFJa'#'49722956-TWl8J0aAS6KTdcbz3ppZ7NfqZEmrwmbsb9cYPNELG'\n",
    "access_secret = 'ibTpreNsW1jm3cru2hRMiuF0hdbs9p78oVFqZFx1Vm0Se'#'3eqrVssF3ppv23qyflyAto8wLEiYRA8sXEPSghuOJWTub'"
   ]
  },
  {
   "cell_type": "code",
   "execution_count": 4,
   "metadata": {
    "collapsed": false
   },
   "outputs": [],
   "source": [
    "# Documentation is your friend! http://docs.tweepy.org/en/v3.1.0/\n",
    "auth = tweepy.OAuthHandler(api_key, api_secret)\n",
    "auth.set_access_token(access_token, access_secret)\n",
    "api = tweepy.API(auth) # returns a tweepy authorization handler object"
   ]
  },
  {
   "cell_type": "code",
   "execution_count": 5,
   "metadata": {
    "collapsed": false
   },
   "outputs": [],
   "source": [
    "# 1. Use Twitter API to stream and store tweets (300 per candidate)\n",
    "# explain geocode is doing\n",
    "bernie_tweets =  api.search(q=\"#berniesanders\", count=100, geocode=\"37.781157,-122.398720,50mi\") + api.search(q='#bernie', count=100, geocode=\"37.781157,-122.398720,50mi\") + api.search(q='#FeelTheBern', count=100, geocode=\"37.781157,-122.398720,50mi\")\n",
    "hilary_tweets = api.search(q='#ImWithHer', count=100, geocode=\"37.781157,-122.398720,50mi\") + api.search(q='#hillaryclinton', count=100, geocode=\"37.781157,-122.398720,50mi\") + api.search(q='#hillary2016', count=100, geocode=\"37.781157,-122.398720,50mi\")\n",
    "the_donald_tweets = api.search(q='#donaldtrump', count=100, geocode=\"37.781157,-122.398720,50mi\") + api.search(q='#trump2016', count=100, geocode=\"37.781157,-122.398720,50mi\") + api.search(q='#trump', count=100, geocode=\"37.781157,-122.398720,50mi\") + api.search(q='#makeamericagreatagain', count=100, geocode=\"37.781157,-122.398720,50mi\")"
   ]
  },
  {
   "cell_type": "code",
   "execution_count": 6,
   "metadata": {
    "collapsed": false
   },
   "outputs": [
    {
     "data": {
      "text/plain": [
       "Status(contributors=None, truncated=False, text=u\"RT @somanystyles: I'm chillin' at the #AzealiaGotSuspendedParty &amp; wondering what level of hatred &amp; racism will it take for #DonaldTrump to\\u2026\", is_quote_status=False, in_reply_to_status_id=None, id=730927423156412416, favorite_count=0, _api=<tweepy.api.API object at 0x10ddbeed0>, author=User(follow_request_sent=False, has_extended_profile=False, profile_use_background_image=False, _json={u'follow_request_sent': False, u'has_extended_profile': False, u'profile_use_background_image': False, u'default_profile_image': False, u'id': 2360483563, u'profile_background_image_url_https': u'https://abs.twimg.com/images/themes/theme1/bg.png', u'verified': False, u'profile_text_color': u'333333', u'profile_image_url_https': u'https://pbs.twimg.com/profile_images/641307598441086977/iLNXJfL5_normal.jpg', u'profile_sidebar_fill_color': u'DDEEF6', u'entities': {u'url': {u'urls': [{u'url': u'http://t.co/WS18erNA7W', u'indices': [0, 22], u'expanded_url': u'http://www.hieroglyphics.com', u'display_url': u'hieroglyphics.com'}]}, u'description': {u'urls': []}}, u'followers_count': 1225, u'profile_sidebar_border_color': u'FFFFFF', u'id_str': u'2360483563', u'profile_background_color': u'030303', u'listed_count': 33, u'is_translation_enabled': False, u'utc_offset': None, u'statuses_count': 33839, u'description': u'Rap Food (Tajai of Hieroglyphics) and Unjust of Chosen Few combine to form Rap Noir. Dig It...', u'friends_count': 2275, u'location': u'Oakland, USA', u'profile_link_color': u'0084B4', u'profile_image_url': u'http://pbs.twimg.com/profile_images/641307598441086977/iLNXJfL5_normal.jpg', u'following': False, u'geo_enabled': False, u'profile_banner_url': u'https://pbs.twimg.com/profile_banners/2360483563/1414928715', u'profile_background_image_url': u'http://abs.twimg.com/images/themes/theme1/bg.png', u'screen_name': u'RapNoir', u'lang': u'en', u'profile_background_tile': False, u'favourites_count': 3938, u'name': u'Rap Noir', u'notifications': False, u'url': u'http://t.co/WS18erNA7W', u'created_at': u'Tue Feb 25 04:11:23 +0000 2014', u'contributors_enabled': False, u'time_zone': None, u'protected': False, u'default_profile': False, u'is_translator': False}, time_zone=None, id=2360483563, _api=<tweepy.api.API object at 0x10ddbeed0>, verified=False, profile_text_color=u'333333', profile_image_url_https=u'https://pbs.twimg.com/profile_images/641307598441086977/iLNXJfL5_normal.jpg', profile_sidebar_fill_color=u'DDEEF6', is_translator=False, geo_enabled=False, entities={u'url': {u'urls': [{u'url': u'http://t.co/WS18erNA7W', u'indices': [0, 22], u'expanded_url': u'http://www.hieroglyphics.com', u'display_url': u'hieroglyphics.com'}]}, u'description': {u'urls': []}}, followers_count=1225, protected=False, id_str=u'2360483563', default_profile_image=False, listed_count=33, lang=u'en', utc_offset=None, statuses_count=33839, description=u'Rap Food (Tajai of Hieroglyphics) and Unjust of Chosen Few combine to form Rap Noir. Dig It...', friends_count=2275, profile_link_color=u'0084B4', profile_image_url=u'http://pbs.twimg.com/profile_images/641307598441086977/iLNXJfL5_normal.jpg', notifications=False, profile_background_image_url_https=u'https://abs.twimg.com/images/themes/theme1/bg.png', profile_background_color=u'030303', profile_banner_url=u'https://pbs.twimg.com/profile_banners/2360483563/1414928715', profile_background_image_url=u'http://abs.twimg.com/images/themes/theme1/bg.png', name=u'Rap Noir', is_translation_enabled=False, profile_background_tile=False, favourites_count=3938, screen_name=u'RapNoir', url=u'http://t.co/WS18erNA7W', created_at=datetime.datetime(2014, 2, 25, 4, 11, 23), contributors_enabled=False, location=u'Oakland, USA', profile_sidebar_border_color=u'FFFFFF', default_profile=False, following=False), _json={u'contributors': None, u'truncated': False, u'text': u\"RT @somanystyles: I'm chillin' at the #AzealiaGotSuspendedParty &amp; wondering what level of hatred &amp; racism will it take for #DonaldTrump to\\u2026\", u'is_quote_status': False, u'in_reply_to_status_id': None, u'id': 730927423156412416, u'favorite_count': 0, u'entities': {u'symbols': [], u'user_mentions': [{u'id': 82748400, u'indices': [3, 16], u'id_str': u'82748400', u'screen_name': u'somanystyles', u'name': u'DJ Styles'}], u'hashtags': [{u'indices': [38, 63], u'text': u'AzealiaGotSuspendedParty'}, {u'indices': [131, 143], u'text': u'DonaldTrump'}], u'urls': []}, u'retweeted': False, u'coordinates': None, u'source': u'<a href=\"http://twitter.com/download/iphone\" rel=\"nofollow\">Twitter for iPhone</a>', u'in_reply_to_screen_name': None, u'in_reply_to_user_id': None, u'retweet_count': 10, u'id_str': u'730927423156412416', u'favorited': False, u'retweeted_status': {u'contributors': None, u'truncated': False, u'text': u\"I'm chillin' at the #AzealiaGotSuspendedParty &amp; wondering what level of hatred &amp; racism will it take for #DonaldTrump to get suspended.\", u'is_quote_status': False, u'in_reply_to_status_id': None, u'id': 730837311986892800, u'favorite_count': 10, u'entities': {u'symbols': [], u'user_mentions': [], u'hashtags': [{u'indices': [20, 45], u'text': u'AzealiaGotSuspendedParty'}, {u'indices': [113, 125], u'text': u'DonaldTrump'}], u'urls': []}, u'retweeted': False, u'coordinates': None, u'source': u'<a href=\"http://twitter.com\" rel=\"nofollow\">Twitter Web Client</a>', u'in_reply_to_screen_name': None, u'in_reply_to_user_id': None, u'retweet_count': 10, u'id_str': u'730837311986892800', u'favorited': False, u'user': {u'follow_request_sent': False, u'has_extended_profile': False, u'profile_use_background_image': True, u'default_profile_image': False, u'id': 82748400, u'profile_background_image_url_https': u'https://pbs.twimg.com/profile_background_images/103946066/reach4it.jpg', u'verified': False, u'profile_text_color': u'333333', u'profile_image_url_https': u'https://pbs.twimg.com/profile_images/378800000222463847/5fffb660d80a1123967902d01ec2ceea_normal.jpeg', u'profile_sidebar_fill_color': u'EFEFEF', u'entities': {u'url': {u'urls': [{u'url': u'https://t.co/Db5D1Ke2Ye', u'indices': [0, 23], u'expanded_url': u'http://www.somanystyles.com', u'display_url': u'somanystyles.com'}]}, u'description': {u'urls': [{u'url': u'https://t.co/u1kE73tymK', u'indices': [66, 89], u'expanded_url': u'http://www.mixcrate.com/somanystyles', u'display_url': u'mixcrate.com/somanystyles'}]}}, u'followers_count': 1248, u'profile_sidebar_border_color': u'FFFFFF', u'id_str': u'82748400', u'profile_background_color': u'131516', u'listed_count': 77, u'is_translation_enabled': False, u'utc_offset': -25200, u'statuses_count': 25730, u'description': u'Events. Music. Sports. Activist. Educator. Oakland. Cal Berkeley. https://t.co/u1kE73tymK', u'friends_count': 1010, u'location': u'Oakland, CA', u'profile_link_color': u'366FD1', u'profile_image_url': u'http://pbs.twimg.com/profile_images/378800000222463847/5fffb660d80a1123967902d01ec2ceea_normal.jpeg', u'following': False, u'geo_enabled': True, u'profile_banner_url': u'https://pbs.twimg.com/profile_banners/82748400/1398302942', u'profile_background_image_url': u'http://pbs.twimg.com/profile_background_images/103946066/reach4it.jpg', u'screen_name': u'somanystyles', u'lang': u'en', u'profile_background_tile': True, u'favourites_count': 9736, u'name': u'DJ Styles', u'notifications': False, u'url': u'https://t.co/Db5D1Ke2Ye', u'created_at': u'Thu Oct 15 23:58:50 +0000 2009', u'contributors_enabled': False, u'time_zone': u'Pacific Time (US & Canada)', u'protected': False, u'default_profile': False, u'is_translator': False}, u'geo': None, u'in_reply_to_user_id_str': None, u'lang': u'en', u'created_at': u'Thu May 12 19:09:28 +0000 2016', u'in_reply_to_status_id_str': None, u'place': None, u'metadata': {u'iso_language_code': u'en', u'result_type': u'recent'}}, u'user': {u'follow_request_sent': False, u'has_extended_profile': False, u'profile_use_background_image': False, u'default_profile_image': False, u'id': 2360483563, u'profile_background_image_url_https': u'https://abs.twimg.com/images/themes/theme1/bg.png', u'verified': False, u'profile_text_color': u'333333', u'profile_image_url_https': u'https://pbs.twimg.com/profile_images/641307598441086977/iLNXJfL5_normal.jpg', u'profile_sidebar_fill_color': u'DDEEF6', u'entities': {u'url': {u'urls': [{u'url': u'http://t.co/WS18erNA7W', u'indices': [0, 22], u'expanded_url': u'http://www.hieroglyphics.com', u'display_url': u'hieroglyphics.com'}]}, u'description': {u'urls': []}}, u'followers_count': 1225, u'profile_sidebar_border_color': u'FFFFFF', u'id_str': u'2360483563', u'profile_background_color': u'030303', u'listed_count': 33, u'is_translation_enabled': False, u'utc_offset': None, u'statuses_count': 33839, u'description': u'Rap Food (Tajai of Hieroglyphics) and Unjust of Chosen Few combine to form Rap Noir. Dig It...', u'friends_count': 2275, u'location': u'Oakland, USA', u'profile_link_color': u'0084B4', u'profile_image_url': u'http://pbs.twimg.com/profile_images/641307598441086977/iLNXJfL5_normal.jpg', u'following': False, u'geo_enabled': False, u'profile_banner_url': u'https://pbs.twimg.com/profile_banners/2360483563/1414928715', u'profile_background_image_url': u'http://abs.twimg.com/images/themes/theme1/bg.png', u'screen_name': u'RapNoir', u'lang': u'en', u'profile_background_tile': False, u'favourites_count': 3938, u'name': u'Rap Noir', u'notifications': False, u'url': u'http://t.co/WS18erNA7W', u'created_at': u'Tue Feb 25 04:11:23 +0000 2014', u'contributors_enabled': False, u'time_zone': None, u'protected': False, u'default_profile': False, u'is_translator': False}, u'geo': None, u'in_reply_to_user_id_str': None, u'lang': u'en', u'created_at': u'Fri May 13 01:07:32 +0000 2016', u'in_reply_to_status_id_str': None, u'place': None, u'metadata': {u'iso_language_code': u'en', u'result_type': u'recent'}}, coordinates=None, entities={u'symbols': [], u'user_mentions': [{u'id': 82748400, u'indices': [3, 16], u'id_str': u'82748400', u'screen_name': u'somanystyles', u'name': u'DJ Styles'}], u'hashtags': [{u'indices': [38, 63], u'text': u'AzealiaGotSuspendedParty'}, {u'indices': [131, 143], u'text': u'DonaldTrump'}], u'urls': []}, in_reply_to_screen_name=None, id_str=u'730927423156412416', retweet_count=10, in_reply_to_user_id=None, favorited=False, retweeted_status=Status(contributors=None, truncated=False, text=u\"I'm chillin' at the #AzealiaGotSuspendedParty &amp; wondering what level of hatred &amp; racism will it take for #DonaldTrump to get suspended.\", is_quote_status=False, in_reply_to_status_id=None, id=730837311986892800, favorite_count=10, _api=<tweepy.api.API object at 0x10ddbeed0>, author=User(follow_request_sent=False, has_extended_profile=False, profile_use_background_image=True, _json={u'follow_request_sent': False, u'has_extended_profile': False, u'profile_use_background_image': True, u'default_profile_image': False, u'id': 82748400, u'profile_background_image_url_https': u'https://pbs.twimg.com/profile_background_images/103946066/reach4it.jpg', u'verified': False, u'profile_text_color': u'333333', u'profile_image_url_https': u'https://pbs.twimg.com/profile_images/378800000222463847/5fffb660d80a1123967902d01ec2ceea_normal.jpeg', u'profile_sidebar_fill_color': u'EFEFEF', u'entities': {u'url': {u'urls': [{u'url': u'https://t.co/Db5D1Ke2Ye', u'indices': [0, 23], u'expanded_url': u'http://www.somanystyles.com', u'display_url': u'somanystyles.com'}]}, u'description': {u'urls': [{u'url': u'https://t.co/u1kE73tymK', u'indices': [66, 89], u'expanded_url': u'http://www.mixcrate.com/somanystyles', u'display_url': u'mixcrate.com/somanystyles'}]}}, u'followers_count': 1248, u'profile_sidebar_border_color': u'FFFFFF', u'id_str': u'82748400', u'profile_background_color': u'131516', u'listed_count': 77, u'is_translation_enabled': False, u'utc_offset': -25200, u'statuses_count': 25730, u'description': u'Events. Music. Sports. Activist. Educator. Oakland. Cal Berkeley. https://t.co/u1kE73tymK', u'friends_count': 1010, u'location': u'Oakland, CA', u'profile_link_color': u'366FD1', u'profile_image_url': u'http://pbs.twimg.com/profile_images/378800000222463847/5fffb660d80a1123967902d01ec2ceea_normal.jpeg', u'following': False, u'geo_enabled': True, u'profile_banner_url': u'https://pbs.twimg.com/profile_banners/82748400/1398302942', u'profile_background_image_url': u'http://pbs.twimg.com/profile_background_images/103946066/reach4it.jpg', u'screen_name': u'somanystyles', u'lang': u'en', u'profile_background_tile': True, u'favourites_count': 9736, u'name': u'DJ Styles', u'notifications': False, u'url': u'https://t.co/Db5D1Ke2Ye', u'created_at': u'Thu Oct 15 23:58:50 +0000 2009', u'contributors_enabled': False, u'time_zone': u'Pacific Time (US & Canada)', u'protected': False, u'default_profile': False, u'is_translator': False}, time_zone=u'Pacific Time (US & Canada)', id=82748400, _api=<tweepy.api.API object at 0x10ddbeed0>, verified=False, profile_text_color=u'333333', profile_image_url_https=u'https://pbs.twimg.com/profile_images/378800000222463847/5fffb660d80a1123967902d01ec2ceea_normal.jpeg', profile_sidebar_fill_color=u'EFEFEF', is_translator=False, geo_enabled=True, entities={u'url': {u'urls': [{u'url': u'https://t.co/Db5D1Ke2Ye', u'indices': [0, 23], u'expanded_url': u'http://www.somanystyles.com', u'display_url': u'somanystyles.com'}]}, u'description': {u'urls': [{u'url': u'https://t.co/u1kE73tymK', u'indices': [66, 89], u'expanded_url': u'http://www.mixcrate.com/somanystyles', u'display_url': u'mixcrate.com/somanystyles'}]}}, followers_count=1248, protected=False, id_str=u'82748400', default_profile_image=False, listed_count=77, lang=u'en', utc_offset=-25200, statuses_count=25730, description=u'Events. Music. Sports. Activist. Educator. Oakland. Cal Berkeley. https://t.co/u1kE73tymK', friends_count=1010, profile_link_color=u'366FD1', profile_image_url=u'http://pbs.twimg.com/profile_images/378800000222463847/5fffb660d80a1123967902d01ec2ceea_normal.jpeg', notifications=False, profile_background_image_url_https=u'https://pbs.twimg.com/profile_background_images/103946066/reach4it.jpg', profile_background_color=u'131516', profile_banner_url=u'https://pbs.twimg.com/profile_banners/82748400/1398302942', profile_background_image_url=u'http://pbs.twimg.com/profile_background_images/103946066/reach4it.jpg', name=u'DJ Styles', is_translation_enabled=False, profile_background_tile=True, favourites_count=9736, screen_name=u'somanystyles', url=u'https://t.co/Db5D1Ke2Ye', created_at=datetime.datetime(2009, 10, 15, 23, 58, 50), contributors_enabled=False, location=u'Oakland, CA', profile_sidebar_border_color=u'FFFFFF', default_profile=False, following=False), _json={u'contributors': None, u'truncated': False, u'text': u\"I'm chillin' at the #AzealiaGotSuspendedParty &amp; wondering what level of hatred &amp; racism will it take for #DonaldTrump to get suspended.\", u'is_quote_status': False, u'in_reply_to_status_id': None, u'id': 730837311986892800, u'favorite_count': 10, u'entities': {u'symbols': [], u'user_mentions': [], u'hashtags': [{u'indices': [20, 45], u'text': u'AzealiaGotSuspendedParty'}, {u'indices': [113, 125], u'text': u'DonaldTrump'}], u'urls': []}, u'retweeted': False, u'coordinates': None, u'source': u'<a href=\"http://twitter.com\" rel=\"nofollow\">Twitter Web Client</a>', u'in_reply_to_screen_name': None, u'in_reply_to_user_id': None, u'retweet_count': 10, u'id_str': u'730837311986892800', u'favorited': False, u'user': {u'follow_request_sent': False, u'has_extended_profile': False, u'profile_use_background_image': True, u'default_profile_image': False, u'id': 82748400, u'profile_background_image_url_https': u'https://pbs.twimg.com/profile_background_images/103946066/reach4it.jpg', u'verified': False, u'profile_text_color': u'333333', u'profile_image_url_https': u'https://pbs.twimg.com/profile_images/378800000222463847/5fffb660d80a1123967902d01ec2ceea_normal.jpeg', u'profile_sidebar_fill_color': u'EFEFEF', u'entities': {u'url': {u'urls': [{u'url': u'https://t.co/Db5D1Ke2Ye', u'indices': [0, 23], u'expanded_url': u'http://www.somanystyles.com', u'display_url': u'somanystyles.com'}]}, u'description': {u'urls': [{u'url': u'https://t.co/u1kE73tymK', u'indices': [66, 89], u'expanded_url': u'http://www.mixcrate.com/somanystyles', u'display_url': u'mixcrate.com/somanystyles'}]}}, u'followers_count': 1248, u'profile_sidebar_border_color': u'FFFFFF', u'id_str': u'82748400', u'profile_background_color': u'131516', u'listed_count': 77, u'is_translation_enabled': False, u'utc_offset': -25200, u'statuses_count': 25730, u'description': u'Events. Music. Sports. Activist. Educator. Oakland. Cal Berkeley. https://t.co/u1kE73tymK', u'friends_count': 1010, u'location': u'Oakland, CA', u'profile_link_color': u'366FD1', u'profile_image_url': u'http://pbs.twimg.com/profile_images/378800000222463847/5fffb660d80a1123967902d01ec2ceea_normal.jpeg', u'following': False, u'geo_enabled': True, u'profile_banner_url': u'https://pbs.twimg.com/profile_banners/82748400/1398302942', u'profile_background_image_url': u'http://pbs.twimg.com/profile_background_images/103946066/reach4it.jpg', u'screen_name': u'somanystyles', u'lang': u'en', u'profile_background_tile': True, u'favourites_count': 9736, u'name': u'DJ Styles', u'notifications': False, u'url': u'https://t.co/Db5D1Ke2Ye', u'created_at': u'Thu Oct 15 23:58:50 +0000 2009', u'contributors_enabled': False, u'time_zone': u'Pacific Time (US & Canada)', u'protected': False, u'default_profile': False, u'is_translator': False}, u'geo': None, u'in_reply_to_user_id_str': None, u'lang': u'en', u'created_at': u'Thu May 12 19:09:28 +0000 2016', u'in_reply_to_status_id_str': None, u'place': None, u'metadata': {u'iso_language_code': u'en', u'result_type': u'recent'}}, coordinates=None, entities={u'symbols': [], u'user_mentions': [], u'hashtags': [{u'indices': [20, 45], u'text': u'AzealiaGotSuspendedParty'}, {u'indices': [113, 125], u'text': u'DonaldTrump'}], u'urls': []}, in_reply_to_screen_name=None, id_str=u'730837311986892800', retweet_count=10, in_reply_to_user_id=None, favorited=False, source_url=u'http://twitter.com', user=User(follow_request_sent=False, has_extended_profile=False, profile_use_background_image=True, _json={u'follow_request_sent': False, u'has_extended_profile': False, u'profile_use_background_image': True, u'default_profile_image': False, u'id': 82748400, u'profile_background_image_url_https': u'https://pbs.twimg.com/profile_background_images/103946066/reach4it.jpg', u'verified': False, u'profile_text_color': u'333333', u'profile_image_url_https': u'https://pbs.twimg.com/profile_images/378800000222463847/5fffb660d80a1123967902d01ec2ceea_normal.jpeg', u'profile_sidebar_fill_color': u'EFEFEF', u'entities': {u'url': {u'urls': [{u'url': u'https://t.co/Db5D1Ke2Ye', u'indices': [0, 23], u'expanded_url': u'http://www.somanystyles.com', u'display_url': u'somanystyles.com'}]}, u'description': {u'urls': [{u'url': u'https://t.co/u1kE73tymK', u'indices': [66, 89], u'expanded_url': u'http://www.mixcrate.com/somanystyles', u'display_url': u'mixcrate.com/somanystyles'}]}}, u'followers_count': 1248, u'profile_sidebar_border_color': u'FFFFFF', u'id_str': u'82748400', u'profile_background_color': u'131516', u'listed_count': 77, u'is_translation_enabled': False, u'utc_offset': -25200, u'statuses_count': 25730, u'description': u'Events. Music. Sports. Activist. Educator. Oakland. Cal Berkeley. https://t.co/u1kE73tymK', u'friends_count': 1010, u'location': u'Oakland, CA', u'profile_link_color': u'366FD1', u'profile_image_url': u'http://pbs.twimg.com/profile_images/378800000222463847/5fffb660d80a1123967902d01ec2ceea_normal.jpeg', u'following': False, u'geo_enabled': True, u'profile_banner_url': u'https://pbs.twimg.com/profile_banners/82748400/1398302942', u'profile_background_image_url': u'http://pbs.twimg.com/profile_background_images/103946066/reach4it.jpg', u'screen_name': u'somanystyles', u'lang': u'en', u'profile_background_tile': True, u'favourites_count': 9736, u'name': u'DJ Styles', u'notifications': False, u'url': u'https://t.co/Db5D1Ke2Ye', u'created_at': u'Thu Oct 15 23:58:50 +0000 2009', u'contributors_enabled': False, u'time_zone': u'Pacific Time (US & Canada)', u'protected': False, u'default_profile': False, u'is_translator': False}, time_zone=u'Pacific Time (US & Canada)', id=82748400, _api=<tweepy.api.API object at 0x10ddbeed0>, verified=False, profile_text_color=u'333333', profile_image_url_https=u'https://pbs.twimg.com/profile_images/378800000222463847/5fffb660d80a1123967902d01ec2ceea_normal.jpeg', profile_sidebar_fill_color=u'EFEFEF', is_translator=False, geo_enabled=True, entities={u'url': {u'urls': [{u'url': u'https://t.co/Db5D1Ke2Ye', u'indices': [0, 23], u'expanded_url': u'http://www.somanystyles.com', u'display_url': u'somanystyles.com'}]}, u'description': {u'urls': [{u'url': u'https://t.co/u1kE73tymK', u'indices': [66, 89], u'expanded_url': u'http://www.mixcrate.com/somanystyles', u'display_url': u'mixcrate.com/somanystyles'}]}}, followers_count=1248, protected=False, id_str=u'82748400', default_profile_image=False, listed_count=77, lang=u'en', utc_offset=-25200, statuses_count=25730, description=u'Events. Music. Sports. Activist. Educator. Oakland. Cal Berkeley. https://t.co/u1kE73tymK', friends_count=1010, profile_link_color=u'366FD1', profile_image_url=u'http://pbs.twimg.com/profile_images/378800000222463847/5fffb660d80a1123967902d01ec2ceea_normal.jpeg', notifications=False, profile_background_image_url_https=u'https://pbs.twimg.com/profile_background_images/103946066/reach4it.jpg', profile_background_color=u'131516', profile_banner_url=u'https://pbs.twimg.com/profile_banners/82748400/1398302942', profile_background_image_url=u'http://pbs.twimg.com/profile_background_images/103946066/reach4it.jpg', name=u'DJ Styles', is_translation_enabled=False, profile_background_tile=True, favourites_count=9736, screen_name=u'somanystyles', url=u'https://t.co/Db5D1Ke2Ye', created_at=datetime.datetime(2009, 10, 15, 23, 58, 50), contributors_enabled=False, location=u'Oakland, CA', profile_sidebar_border_color=u'FFFFFF', default_profile=False, following=False), geo=None, in_reply_to_user_id_str=None, lang=u'en', created_at=datetime.datetime(2016, 5, 12, 19, 9, 28), in_reply_to_status_id_str=None, place=None, source=u'Twitter Web Client', retweeted=False, metadata={u'iso_language_code': u'en', u'result_type': u'recent'}), source_url=u'http://twitter.com/download/iphone', user=User(follow_request_sent=False, has_extended_profile=False, profile_use_background_image=False, _json={u'follow_request_sent': False, u'has_extended_profile': False, u'profile_use_background_image': False, u'default_profile_image': False, u'id': 2360483563, u'profile_background_image_url_https': u'https://abs.twimg.com/images/themes/theme1/bg.png', u'verified': False, u'profile_text_color': u'333333', u'profile_image_url_https': u'https://pbs.twimg.com/profile_images/641307598441086977/iLNXJfL5_normal.jpg', u'profile_sidebar_fill_color': u'DDEEF6', u'entities': {u'url': {u'urls': [{u'url': u'http://t.co/WS18erNA7W', u'indices': [0, 22], u'expanded_url': u'http://www.hieroglyphics.com', u'display_url': u'hieroglyphics.com'}]}, u'description': {u'urls': []}}, u'followers_count': 1225, u'profile_sidebar_border_color': u'FFFFFF', u'id_str': u'2360483563', u'profile_background_color': u'030303', u'listed_count': 33, u'is_translation_enabled': False, u'utc_offset': None, u'statuses_count': 33839, u'description': u'Rap Food (Tajai of Hieroglyphics) and Unjust of Chosen Few combine to form Rap Noir. Dig It...', u'friends_count': 2275, u'location': u'Oakland, USA', u'profile_link_color': u'0084B4', u'profile_image_url': u'http://pbs.twimg.com/profile_images/641307598441086977/iLNXJfL5_normal.jpg', u'following': False, u'geo_enabled': False, u'profile_banner_url': u'https://pbs.twimg.com/profile_banners/2360483563/1414928715', u'profile_background_image_url': u'http://abs.twimg.com/images/themes/theme1/bg.png', u'screen_name': u'RapNoir', u'lang': u'en', u'profile_background_tile': False, u'favourites_count': 3938, u'name': u'Rap Noir', u'notifications': False, u'url': u'http://t.co/WS18erNA7W', u'created_at': u'Tue Feb 25 04:11:23 +0000 2014', u'contributors_enabled': False, u'time_zone': None, u'protected': False, u'default_profile': False, u'is_translator': False}, time_zone=None, id=2360483563, _api=<tweepy.api.API object at 0x10ddbeed0>, verified=False, profile_text_color=u'333333', profile_image_url_https=u'https://pbs.twimg.com/profile_images/641307598441086977/iLNXJfL5_normal.jpg', profile_sidebar_fill_color=u'DDEEF6', is_translator=False, geo_enabled=False, entities={u'url': {u'urls': [{u'url': u'http://t.co/WS18erNA7W', u'indices': [0, 22], u'expanded_url': u'http://www.hieroglyphics.com', u'display_url': u'hieroglyphics.com'}]}, u'description': {u'urls': []}}, followers_count=1225, protected=False, id_str=u'2360483563', default_profile_image=False, listed_count=33, lang=u'en', utc_offset=None, statuses_count=33839, description=u'Rap Food (Tajai of Hieroglyphics) and Unjust of Chosen Few combine to form Rap Noir. Dig It...', friends_count=2275, profile_link_color=u'0084B4', profile_image_url=u'http://pbs.twimg.com/profile_images/641307598441086977/iLNXJfL5_normal.jpg', notifications=False, profile_background_image_url_https=u'https://abs.twimg.com/images/themes/theme1/bg.png', profile_background_color=u'030303', profile_banner_url=u'https://pbs.twimg.com/profile_banners/2360483563/1414928715', profile_background_image_url=u'http://abs.twimg.com/images/themes/theme1/bg.png', name=u'Rap Noir', is_translation_enabled=False, profile_background_tile=False, favourites_count=3938, screen_name=u'RapNoir', url=u'http://t.co/WS18erNA7W', created_at=datetime.datetime(2014, 2, 25, 4, 11, 23), contributors_enabled=False, location=u'Oakland, USA', profile_sidebar_border_color=u'FFFFFF', default_profile=False, following=False), geo=None, in_reply_to_user_id_str=None, lang=u'en', created_at=datetime.datetime(2016, 5, 13, 1, 7, 32), in_reply_to_status_id_str=None, place=None, source=u'Twitter for iPhone', retweeted=False, metadata={u'iso_language_code': u'en', u'result_type': u'recent'})"
      ]
     },
     "execution_count": 6,
     "metadata": {},
     "output_type": "execute_result"
    }
   ],
   "source": [
    "the_donald_tweets[0]"
   ]
  },
  {
   "cell_type": "code",
   "execution_count": 7,
   "metadata": {
    "collapsed": false
   },
   "outputs": [
    {
     "name": "stdout",
     "output_type": "stream",
     "text": [
      "['__class__', '__delattr__', '__dict__', '__doc__', '__eq__', '__format__', '__getattribute__', '__getstate__', '__hash__', '__init__', '__module__', '__ne__', '__new__', '__reduce__', '__reduce_ex__', '__repr__', '__setattr__', '__sizeof__', '__str__', '__subclasshook__', '__weakref__', '_api', '_json', 'author', 'contributors', 'coordinates', 'created_at', 'destroy', 'entities', 'favorite', 'favorite_count', 'favorited', 'geo', 'id', 'id_str', 'in_reply_to_screen_name', 'in_reply_to_status_id', 'in_reply_to_status_id_str', 'in_reply_to_user_id', 'in_reply_to_user_id_str', 'is_quote_status', 'lang', 'metadata', 'parse', 'parse_list', 'place', 'retweet', 'retweet_count', 'retweeted', 'retweeted_status', 'retweets', 'source', 'source_url', 'text', 'truncated', 'user']\n"
     ]
    }
   ],
   "source": [
    "# wrappers come with built in python attributes and methods!\n",
    "print dir(the_donald_tweets[0])"
   ]
  },
  {
   "cell_type": "code",
   "execution_count": 10,
   "metadata": {
    "collapsed": false
   },
   "outputs": [
    {
     "ename": "AttributeError",
     "evalue": "'list' object has no attribute 'created_at'",
     "output_type": "error",
     "traceback": [
      "\u001b[0;31m---------------------------------------------------------------------------\u001b[0m",
      "\u001b[0;31mAttributeError\u001b[0m                            Traceback (most recent call last)",
      "\u001b[0;32m<ipython-input-10-495d95df92f5>\u001b[0m in \u001b[0;36m<module>\u001b[0;34m()\u001b[0m\n\u001b[0;32m----> 1\u001b[0;31m \u001b[0;32mprint\u001b[0m \u001b[0mthe_donald_tweets\u001b[0m\u001b[0;34m[\u001b[0m\u001b[0;36m0\u001b[0m\u001b[0;34m]\u001b[0m\u001b[0;34m.\u001b[0m\u001b[0mcreated_at\u001b[0m\u001b[0;34m\u001b[0m\u001b[0m\n\u001b[0m\u001b[1;32m      2\u001b[0m \u001b[0;32mprint\u001b[0m \u001b[0mthe_donald_tweets\u001b[0m\u001b[0;34m[\u001b[0m\u001b[0;36m0\u001b[0m\u001b[0;34m]\u001b[0m\u001b[0;34m.\u001b[0m\u001b[0mtext\u001b[0m\u001b[0;34m\u001b[0m\u001b[0m\n\u001b[1;32m      3\u001b[0m \u001b[0;32mprint\u001b[0m \u001b[0mthe_donald_tweets\u001b[0m\u001b[0;34m[\u001b[0m\u001b[0;36m0\u001b[0m\u001b[0;34m]\u001b[0m\u001b[0;34m.\u001b[0m\u001b[0mfavorite_count\u001b[0m\u001b[0;34m\u001b[0m\u001b[0m\n\u001b[1;32m      4\u001b[0m \u001b[0;32mprint\u001b[0m \u001b[0mthe_donald_tweets\u001b[0m\u001b[0;34m[\u001b[0m\u001b[0;36m0\u001b[0m\u001b[0;34m]\u001b[0m\u001b[0;34m.\u001b[0m\u001b[0mfavorited\u001b[0m\u001b[0;34m\u001b[0m\u001b[0m\n\u001b[1;32m      5\u001b[0m \u001b[0;32mprint\u001b[0m \u001b[0mthe_donald_tweets\u001b[0m\u001b[0;34m[\u001b[0m\u001b[0;36m0\u001b[0m\u001b[0;34m]\u001b[0m\u001b[0;34m.\u001b[0m\u001b[0mlang\u001b[0m\u001b[0;34m\u001b[0m\u001b[0m\n",
      "\u001b[0;31mAttributeError\u001b[0m: 'list' object has no attribute 'created_at'"
     ]
    }
   ],
   "source": [
    "print the_donald_tweets[0].created_at\n",
    "print the_donald_tweets[0].text\n",
    "print the_donald_tweets[0].favorite_count\n",
    "print the_donald_tweets[0].favorited\n",
    "print the_donald_tweets[0].lang\n",
    "print the_donald_tweets[0].geo\n",
    "print the_donald_tweets[0].retweet_count\n",
    "print the_donald_tweets[0].retweeted\n",
    "print the_donald_tweets[0].possibly_sensitive\n",
    "print the_donald_tweets[0].coordinates"
   ]
  },
  {
   "cell_type": "code",
   "execution_count": 11,
   "metadata": {
    "collapsed": false
   },
   "outputs": [
    {
     "ename": "AttributeError",
     "evalue": "'list' object has no attribute 'created_at'",
     "output_type": "error",
     "traceback": [
      "\u001b[0;31m---------------------------------------------------------------------------\u001b[0m",
      "\u001b[0;31mAttributeError\u001b[0m                            Traceback (most recent call last)",
      "\u001b[0;32m<ipython-input-11-55c9ff0d36dd>\u001b[0m in \u001b[0;36m<module>\u001b[0;34m()\u001b[0m\n\u001b[1;32m     15\u001b[0m     \u001b[0;32mreturn\u001b[0m \u001b[0mmodified_tweets\u001b[0m\u001b[0;34m\u001b[0m\u001b[0m\n\u001b[1;32m     16\u001b[0m \u001b[0;34m\u001b[0m\u001b[0m\n\u001b[0;32m---> 17\u001b[0;31m \u001b[0mhilary_tweets\u001b[0m \u001b[0;34m=\u001b[0m \u001b[0mparse_status_objects\u001b[0m\u001b[0;34m(\u001b[0m\u001b[0mhilary_tweets\u001b[0m\u001b[0;34m)\u001b[0m\u001b[0;34m\u001b[0m\u001b[0m\n\u001b[0m\u001b[1;32m     18\u001b[0m \u001b[0mthe_donald_tweets\u001b[0m \u001b[0;34m=\u001b[0m \u001b[0mparse_status_objects\u001b[0m\u001b[0;34m(\u001b[0m\u001b[0mthe_donald_tweets\u001b[0m\u001b[0;34m)\u001b[0m\u001b[0;34m\u001b[0m\u001b[0m\n\u001b[1;32m     19\u001b[0m \u001b[0mbernie_tweets\u001b[0m \u001b[0;34m=\u001b[0m \u001b[0mparse_status_objects\u001b[0m\u001b[0;34m(\u001b[0m\u001b[0mbernie_tweets\u001b[0m\u001b[0;34m)\u001b[0m\u001b[0;34m\u001b[0m\u001b[0m\n",
      "\u001b[0;32m<ipython-input-11-55c9ff0d36dd>\u001b[0m in \u001b[0;36mparse_status_objects\u001b[0;34m(tweet_list)\u001b[0m\n\u001b[1;32m      3\u001b[0m     \u001b[0;32mfor\u001b[0m \u001b[0mx\u001b[0m \u001b[0;32min\u001b[0m \u001b[0mtweet_list\u001b[0m\u001b[0;34m:\u001b[0m\u001b[0;34m\u001b[0m\u001b[0m\n\u001b[1;32m      4\u001b[0m         modified_tweets.append( [\n\u001b[0;32m----> 5\u001b[0;31m                     \u001b[0mx\u001b[0m\u001b[0;34m.\u001b[0m\u001b[0mcreated_at\u001b[0m\u001b[0;34m,\u001b[0m\u001b[0;34m\u001b[0m\u001b[0m\n\u001b[0m\u001b[1;32m      6\u001b[0m                     \u001b[0mx\u001b[0m\u001b[0;34m.\u001b[0m\u001b[0mtext\u001b[0m\u001b[0;34m,\u001b[0m\u001b[0;34m\u001b[0m\u001b[0m\n\u001b[1;32m      7\u001b[0m                     \u001b[0mx\u001b[0m\u001b[0;34m.\u001b[0m\u001b[0mfavorite_count\u001b[0m\u001b[0;34m,\u001b[0m\u001b[0;34m\u001b[0m\u001b[0m\n",
      "\u001b[0;31mAttributeError\u001b[0m: 'list' object has no attribute 'created_at'"
     ]
    }
   ],
   "source": [
    "def parse_status_objects(tweet_list):\n",
    "    modified_tweets = list()\n",
    "    for x in tweet_list:\n",
    "        modified_tweets.append( [\n",
    "                    x.created_at,\n",
    "                    x.text,\n",
    "                    x.favorite_count,\n",
    "                    x.favorited,\n",
    "                    x.lang,\n",
    "                    x.geo,\n",
    "                    x.retweet_count,\n",
    "                    x.retweeted,\n",
    "                    x.coordinates\n",
    "                ])\n",
    "    return modified_tweets\n",
    "        \n",
    "hilary_tweets = parse_status_objects(hilary_tweets)\n",
    "the_donald_tweets = parse_status_objects(the_donald_tweets)\n",
    "bernie_tweets = parse_status_objects(bernie_tweets)"
   ]
  },
  {
   "cell_type": "code",
   "execution_count": 12,
   "metadata": {
    "collapsed": false
   },
   "outputs": [
    {
     "name": "stdout",
     "output_type": "stream",
     "text": [
      "[datetime.datetime(2016, 5, 13, 1, 32, 31), u'Clinton Camp Keeps Trying To Call #BernieSanders Racist https://t.co/7y7xF5qcsU #NeverHillary', 0, False, u'en', None, 0, False, None]\n",
      "[datetime.datetime(2016, 5, 13, 1, 7, 32), u\"RT @somanystyles: I'm chillin' at the #AzealiaGotSuspendedParty &amp; wondering what level of hatred &amp; racism will it take for #DonaldTrump to\\u2026\", 0, False, u'en', None, 10, False, None]\n",
      "[datetime.datetime(2016, 5, 13, 1, 36, 7), u\"The Thursday night SF office phone bank crew with the very inspiring Stephanie Schriok of EMILY's List! #ImWithHer https://t.co/b7FiHO6caQ\", 1, False, u'en', None, 0, False, None]\n"
     ]
    }
   ],
   "source": [
    "print bernie_tweets[0]\n",
    "print the_donald_tweets[0]\n",
    "print hilary_tweets[0]"
   ]
  },
  {
   "cell_type": "code",
   "execution_count": 13,
   "metadata": {
    "collapsed": false
   },
   "outputs": [
    {
     "name": "stdout",
     "output_type": "stream",
     "text": [
      "300\n",
      "9\n"
     ]
    }
   ],
   "source": [
    "print len(hilary_tweets)\n",
    "print len(hilary_tweets[0])"
   ]
  },
  {
   "cell_type": "code",
   "execution_count": 14,
   "metadata": {
    "collapsed": true
   },
   "outputs": [],
   "source": [
    "col = ['date', 'text', 'favorite_count','favorited', 'language', \n",
    "           'geocode', 'rwtweet count', 'retweeted', 'coordinates']"
   ]
  },
  {
   "cell_type": "code",
   "execution_count": 15,
   "metadata": {
    "collapsed": false
   },
   "outputs": [],
   "source": [
    "import pandas as pd\n",
    "bernie = pd.DataFrame(bernie_tweets, columns=col)\n",
    "hilary = pd.DataFrame(hilary_tweets, columns=col)\n",
    "trump = pd.DataFrame(the_donald_tweets, columns=col)"
   ]
  },
  {
   "cell_type": "code",
   "execution_count": 16,
   "metadata": {
    "collapsed": false
   },
   "outputs": [
    {
     "data": {
      "text/plain": [
       "(400, 10)"
      ]
     },
     "execution_count": 16,
     "metadata": {},
     "output_type": "execute_result"
    }
   ],
   "source": [
    "bernie['candidate'] = 'bernie'\n",
    "hilary['candidate'] = 'hilary'\n",
    "trump['candidate'] = 'trump'\n",
    "hilary.head()\n",
    "trump.shape"
   ]
  },
  {
   "cell_type": "code",
   "execution_count": 17,
   "metadata": {
    "collapsed": false
   },
   "outputs": [
    {
     "data": {
      "text/html": [
       "<div>\n",
       "<table border=\"1\" class=\"dataframe\">\n",
       "  <thead>\n",
       "    <tr style=\"text-align: right;\">\n",
       "      <th></th>\n",
       "      <th>date</th>\n",
       "      <th>text</th>\n",
       "      <th>favorite_count</th>\n",
       "      <th>favorited</th>\n",
       "      <th>language</th>\n",
       "      <th>geocode</th>\n",
       "      <th>rwtweet count</th>\n",
       "      <th>retweeted</th>\n",
       "      <th>coordinates</th>\n",
       "      <th>candidate</th>\n",
       "    </tr>\n",
       "  </thead>\n",
       "  <tbody>\n",
       "    <tr>\n",
       "      <th>0</th>\n",
       "      <td>2016-05-13 01:32:31</td>\n",
       "      <td>Clinton Camp Keeps Trying To Call #BernieSande...</td>\n",
       "      <td>0</td>\n",
       "      <td>False</td>\n",
       "      <td>en</td>\n",
       "      <td>None</td>\n",
       "      <td>0</td>\n",
       "      <td>False</td>\n",
       "      <td>None</td>\n",
       "      <td>bernie</td>\n",
       "    </tr>\n",
       "    <tr>\n",
       "      <th>1</th>\n",
       "      <td>2016-05-13 01:25:16</td>\n",
       "      <td>RT @mystictriple7: @SusanSarandon Show MSM #Be...</td>\n",
       "      <td>0</td>\n",
       "      <td>False</td>\n",
       "      <td>en</td>\n",
       "      <td>None</td>\n",
       "      <td>4</td>\n",
       "      <td>False</td>\n",
       "      <td>None</td>\n",
       "      <td>bernie</td>\n",
       "    </tr>\n",
       "    <tr>\n",
       "      <th>2</th>\n",
       "      <td>2016-05-13 01:21:55</td>\n",
       "      <td>RT @hollsly: #BernieSanders 💯 this is his the...</td>\n",
       "      <td>0</td>\n",
       "      <td>False</td>\n",
       "      <td>en</td>\n",
       "      <td>None</td>\n",
       "      <td>1</td>\n",
       "      <td>False</td>\n",
       "      <td>None</td>\n",
       "      <td>bernie</td>\n",
       "    </tr>\n",
       "    <tr>\n",
       "      <th>3</th>\n",
       "      <td>2016-05-13 00:46:57</td>\n",
       "      <td>RT @mystictriple7: @SusanSarandon Show MSM #Be...</td>\n",
       "      <td>0</td>\n",
       "      <td>False</td>\n",
       "      <td>en</td>\n",
       "      <td>None</td>\n",
       "      <td>4</td>\n",
       "      <td>False</td>\n",
       "      <td>None</td>\n",
       "      <td>bernie</td>\n",
       "    </tr>\n",
       "    <tr>\n",
       "      <th>4</th>\n",
       "      <td>2016-05-13 00:45:44</td>\n",
       "      <td>Politics is DIRTY #RyanTrump #HillaryDropOut B...</td>\n",
       "      <td>1</td>\n",
       "      <td>False</td>\n",
       "      <td>en</td>\n",
       "      <td>None</td>\n",
       "      <td>0</td>\n",
       "      <td>False</td>\n",
       "      <td>None</td>\n",
       "      <td>bernie</td>\n",
       "    </tr>\n",
       "  </tbody>\n",
       "</table>\n",
       "</div>"
      ],
      "text/plain": [
       "                 date                                               text  \\\n",
       "0 2016-05-13 01:32:31  Clinton Camp Keeps Trying To Call #BernieSande...   \n",
       "1 2016-05-13 01:25:16  RT @mystictriple7: @SusanSarandon Show MSM #Be...   \n",
       "2 2016-05-13 01:21:55  RT @hollsly: #BernieSanders 💯 this is his the...   \n",
       "3 2016-05-13 00:46:57  RT @mystictriple7: @SusanSarandon Show MSM #Be...   \n",
       "4 2016-05-13 00:45:44  Politics is DIRTY #RyanTrump #HillaryDropOut B...   \n",
       "\n",
       "   favorite_count favorited language geocode  rwtweet count retweeted  \\\n",
       "0               0     False       en    None              0     False   \n",
       "1               0     False       en    None              4     False   \n",
       "2               0     False       en    None              1     False   \n",
       "3               0     False       en    None              4     False   \n",
       "4               1     False       en    None              0     False   \n",
       "\n",
       "  coordinates candidate  \n",
       "0        None    bernie  \n",
       "1        None    bernie  \n",
       "2        None    bernie  \n",
       "3        None    bernie  \n",
       "4        None    bernie  "
      ]
     },
     "execution_count": 17,
     "metadata": {},
     "output_type": "execute_result"
    }
   ],
   "source": [
    "# 2 Create a dataframe that combines all of the tweets from each candidate\n",
    "# To do so, you will need to concat the data frames\n",
    "# so each row is a tweet and your columns should be \n",
    "# date, text, favorite_count,favorited, language, geocode, rwtweet count, retweeted, coordinates\n",
    "all_tweets = pd.concat([bernie,hilary,trump])\n",
    "all_tweets.head()"
   ]
  },
  {
   "cell_type": "code",
   "execution_count": 18,
   "metadata": {
    "collapsed": false
   },
   "outputs": [
    {
     "data": {
      "text/plain": [
       "0.6333333333333334"
      ]
     },
     "execution_count": 18,
     "metadata": {},
     "output_type": "execute_result"
    }
   ],
   "source": [
    "# 3 Create a function to take in a string and output the textblob sentiment of that string\n",
    "from textblob import TextBlob, Word\n",
    "\n",
    "def get_sent(string):\n",
    "    return TextBlob(string.decode('utf-8', 'ignore')).sentiment.polarity\n",
    "\n",
    "get_sent('unicorns rainbows love great amazing')"
   ]
  },
  {
   "cell_type": "code",
   "execution_count": 19,
   "metadata": {
    "collapsed": false
   },
   "outputs": [
    {
     "data": {
      "text/html": [
       "<div>\n",
       "<table border=\"1\" class=\"dataframe\">\n",
       "  <thead>\n",
       "    <tr style=\"text-align: right;\">\n",
       "      <th></th>\n",
       "      <th>date</th>\n",
       "      <th>text</th>\n",
       "      <th>favorite_count</th>\n",
       "      <th>favorited</th>\n",
       "      <th>language</th>\n",
       "      <th>geocode</th>\n",
       "      <th>rwtweet count</th>\n",
       "      <th>retweeted</th>\n",
       "      <th>coordinates</th>\n",
       "      <th>candidate</th>\n",
       "      <th>sentiment</th>\n",
       "    </tr>\n",
       "  </thead>\n",
       "  <tbody>\n",
       "    <tr>\n",
       "      <th>0</th>\n",
       "      <td>2016-05-13 01:32:31</td>\n",
       "      <td>Clinton Camp Keeps Trying To Call #BernieSande...</td>\n",
       "      <td>0</td>\n",
       "      <td>False</td>\n",
       "      <td>en</td>\n",
       "      <td>None</td>\n",
       "      <td>0</td>\n",
       "      <td>False</td>\n",
       "      <td>None</td>\n",
       "      <td>bernie</td>\n",
       "      <td>0.000000</td>\n",
       "    </tr>\n",
       "    <tr>\n",
       "      <th>1</th>\n",
       "      <td>2016-05-13 01:25:16</td>\n",
       "      <td>RT @mystictriple7: @SusanSarandon Show MSM #Be...</td>\n",
       "      <td>0</td>\n",
       "      <td>False</td>\n",
       "      <td>en</td>\n",
       "      <td>None</td>\n",
       "      <td>4</td>\n",
       "      <td>False</td>\n",
       "      <td>None</td>\n",
       "      <td>bernie</td>\n",
       "      <td>0.000000</td>\n",
       "    </tr>\n",
       "    <tr>\n",
       "      <th>2</th>\n",
       "      <td>2016-05-13 01:21:55</td>\n",
       "      <td>RT @hollsly: #BernieSanders 💯 this is his the...</td>\n",
       "      <td>0</td>\n",
       "      <td>False</td>\n",
       "      <td>en</td>\n",
       "      <td>None</td>\n",
       "      <td>1</td>\n",
       "      <td>False</td>\n",
       "      <td>None</td>\n",
       "      <td>bernie</td>\n",
       "      <td>0.000000</td>\n",
       "    </tr>\n",
       "    <tr>\n",
       "      <th>3</th>\n",
       "      <td>2016-05-13 00:46:57</td>\n",
       "      <td>RT @mystictriple7: @SusanSarandon Show MSM #Be...</td>\n",
       "      <td>0</td>\n",
       "      <td>False</td>\n",
       "      <td>en</td>\n",
       "      <td>None</td>\n",
       "      <td>4</td>\n",
       "      <td>False</td>\n",
       "      <td>None</td>\n",
       "      <td>bernie</td>\n",
       "      <td>0.000000</td>\n",
       "    </tr>\n",
       "    <tr>\n",
       "      <th>4</th>\n",
       "      <td>2016-05-13 00:45:44</td>\n",
       "      <td>Politics is DIRTY #RyanTrump #HillaryDropOut B...</td>\n",
       "      <td>1</td>\n",
       "      <td>False</td>\n",
       "      <td>en</td>\n",
       "      <td>None</td>\n",
       "      <td>0</td>\n",
       "      <td>False</td>\n",
       "      <td>None</td>\n",
       "      <td>bernie</td>\n",
       "      <td>-0.011111</td>\n",
       "    </tr>\n",
       "  </tbody>\n",
       "</table>\n",
       "</div>"
      ],
      "text/plain": [
       "                 date                                               text  \\\n",
       "0 2016-05-13 01:32:31  Clinton Camp Keeps Trying To Call #BernieSande...   \n",
       "1 2016-05-13 01:25:16  RT @mystictriple7: @SusanSarandon Show MSM #Be...   \n",
       "2 2016-05-13 01:21:55  RT @hollsly: #BernieSanders 💯 this is his the...   \n",
       "3 2016-05-13 00:46:57  RT @mystictriple7: @SusanSarandon Show MSM #Be...   \n",
       "4 2016-05-13 00:45:44  Politics is DIRTY #RyanTrump #HillaryDropOut B...   \n",
       "\n",
       "   favorite_count favorited language geocode  rwtweet count retweeted  \\\n",
       "0               0     False       en    None              0     False   \n",
       "1               0     False       en    None              4     False   \n",
       "2               0     False       en    None              1     False   \n",
       "3               0     False       en    None              4     False   \n",
       "4               1     False       en    None              0     False   \n",
       "\n",
       "  coordinates candidate  sentiment  \n",
       "0        None    bernie   0.000000  \n",
       "1        None    bernie   0.000000  \n",
       "2        None    bernie   0.000000  \n",
       "3        None    bernie   0.000000  \n",
       "4        None    bernie  -0.011111  "
      ]
     },
     "execution_count": 19,
     "metadata": {},
     "output_type": "execute_result"
    }
   ],
   "source": [
    "# 4 Add a column to your data frame called 'sentiment' which holds the sentiment of that tweet (hint: use the function from #3)\n",
    "all_tweets['sentiment'] = all_tweets.text.map(lambda x: get_sent(x.encode(\"utf8\")))\n",
    "all_tweets.head()"
   ]
  },
  {
   "cell_type": "code",
   "execution_count": 20,
   "metadata": {
    "collapsed": false
   },
   "outputs": [
    {
     "data": {
      "text/html": [
       "<div>\n",
       "<table border=\"1\" class=\"dataframe\">\n",
       "  <thead>\n",
       "    <tr style=\"text-align: right;\">\n",
       "      <th></th>\n",
       "      <th>date</th>\n",
       "      <th>text</th>\n",
       "      <th>favorite_count</th>\n",
       "      <th>favorited</th>\n",
       "      <th>language</th>\n",
       "      <th>geocode</th>\n",
       "      <th>rwtweet count</th>\n",
       "      <th>retweeted</th>\n",
       "      <th>coordinates</th>\n",
       "      <th>candidate</th>\n",
       "      <th>sentiment</th>\n",
       "      <th>num_words</th>\n",
       "    </tr>\n",
       "  </thead>\n",
       "  <tbody>\n",
       "    <tr>\n",
       "      <th>0</th>\n",
       "      <td>2016-05-13 01:32:31</td>\n",
       "      <td>Clinton Camp Keeps Trying To Call #BernieSande...</td>\n",
       "      <td>0</td>\n",
       "      <td>False</td>\n",
       "      <td>en</td>\n",
       "      <td>None</td>\n",
       "      <td>0</td>\n",
       "      <td>False</td>\n",
       "      <td>None</td>\n",
       "      <td>bernie</td>\n",
       "      <td>0.000000</td>\n",
       "      <td>11</td>\n",
       "    </tr>\n",
       "    <tr>\n",
       "      <th>1</th>\n",
       "      <td>2016-05-13 01:25:16</td>\n",
       "      <td>RT @mystictriple7: @SusanSarandon Show MSM #Be...</td>\n",
       "      <td>0</td>\n",
       "      <td>False</td>\n",
       "      <td>en</td>\n",
       "      <td>None</td>\n",
       "      <td>4</td>\n",
       "      <td>False</td>\n",
       "      <td>None</td>\n",
       "      <td>bernie</td>\n",
       "      <td>0.000000</td>\n",
       "      <td>11</td>\n",
       "    </tr>\n",
       "    <tr>\n",
       "      <th>2</th>\n",
       "      <td>2016-05-13 01:21:55</td>\n",
       "      <td>RT @hollsly: #BernieSanders 💯 this is his the...</td>\n",
       "      <td>0</td>\n",
       "      <td>False</td>\n",
       "      <td>en</td>\n",
       "      <td>None</td>\n",
       "      <td>1</td>\n",
       "      <td>False</td>\n",
       "      <td>None</td>\n",
       "      <td>bernie</td>\n",
       "      <td>0.000000</td>\n",
       "      <td>18</td>\n",
       "    </tr>\n",
       "    <tr>\n",
       "      <th>3</th>\n",
       "      <td>2016-05-13 00:46:57</td>\n",
       "      <td>RT @mystictriple7: @SusanSarandon Show MSM #Be...</td>\n",
       "      <td>0</td>\n",
       "      <td>False</td>\n",
       "      <td>en</td>\n",
       "      <td>None</td>\n",
       "      <td>4</td>\n",
       "      <td>False</td>\n",
       "      <td>None</td>\n",
       "      <td>bernie</td>\n",
       "      <td>0.000000</td>\n",
       "      <td>11</td>\n",
       "    </tr>\n",
       "    <tr>\n",
       "      <th>4</th>\n",
       "      <td>2016-05-13 00:45:44</td>\n",
       "      <td>Politics is DIRTY #RyanTrump #HillaryDropOut B...</td>\n",
       "      <td>1</td>\n",
       "      <td>False</td>\n",
       "      <td>en</td>\n",
       "      <td>None</td>\n",
       "      <td>0</td>\n",
       "      <td>False</td>\n",
       "      <td>None</td>\n",
       "      <td>bernie</td>\n",
       "      <td>-0.011111</td>\n",
       "      <td>14</td>\n",
       "    </tr>\n",
       "  </tbody>\n",
       "</table>\n",
       "</div>"
      ],
      "text/plain": [
       "                 date                                               text  \\\n",
       "0 2016-05-13 01:32:31  Clinton Camp Keeps Trying To Call #BernieSande...   \n",
       "1 2016-05-13 01:25:16  RT @mystictriple7: @SusanSarandon Show MSM #Be...   \n",
       "2 2016-05-13 01:21:55  RT @hollsly: #BernieSanders 💯 this is his the...   \n",
       "3 2016-05-13 00:46:57  RT @mystictriple7: @SusanSarandon Show MSM #Be...   \n",
       "4 2016-05-13 00:45:44  Politics is DIRTY #RyanTrump #HillaryDropOut B...   \n",
       "\n",
       "   favorite_count favorited language geocode  rwtweet count retweeted  \\\n",
       "0               0     False       en    None              0     False   \n",
       "1               0     False       en    None              4     False   \n",
       "2               0     False       en    None              1     False   \n",
       "3               0     False       en    None              4     False   \n",
       "4               1     False       en    None              0     False   \n",
       "\n",
       "  coordinates candidate  sentiment  num_words  \n",
       "0        None    bernie   0.000000         11  \n",
       "1        None    bernie   0.000000         11  \n",
       "2        None    bernie   0.000000         18  \n",
       "3        None    bernie   0.000000         11  \n",
       "4        None    bernie  -0.011111         14  "
      ]
     },
     "execution_count": 20,
     "metadata": {},
     "output_type": "execute_result"
    }
   ],
   "source": [
    "# 5 create a word count column, which holds the number of words in the text column\n",
    "all_tweets['num_words'] = all_tweets.text.map(lambda x:  len(TextBlob(x).words))\n",
    "all_tweets.head()"
   ]
  },
  {
   "cell_type": "code",
   "execution_count": 21,
   "metadata": {
    "collapsed": false
   },
   "outputs": [
    {
     "data": {
      "text/html": [
       "<div>\n",
       "<table border=\"1\" class=\"dataframe\">\n",
       "  <thead>\n",
       "    <tr style=\"text-align: right;\">\n",
       "      <th></th>\n",
       "      <th>date</th>\n",
       "      <th>text</th>\n",
       "      <th>favorite_count</th>\n",
       "      <th>favorited</th>\n",
       "      <th>language</th>\n",
       "      <th>geocode</th>\n",
       "      <th>rwtweet count</th>\n",
       "      <th>retweeted</th>\n",
       "      <th>coordinates</th>\n",
       "      <th>candidate</th>\n",
       "      <th>...</th>\n",
       "      <th>2402</th>\n",
       "      <th>2403</th>\n",
       "      <th>2404</th>\n",
       "      <th>2405</th>\n",
       "      <th>2406</th>\n",
       "      <th>2407</th>\n",
       "      <th>2408</th>\n",
       "      <th>2409</th>\n",
       "      <th>2410</th>\n",
       "      <th>2411</th>\n",
       "    </tr>\n",
       "  </thead>\n",
       "  <tbody>\n",
       "    <tr>\n",
       "      <th>0</th>\n",
       "      <td>2016-05-13 01:32:31</td>\n",
       "      <td>Clinton Camp Keeps Trying To Call #BernieSande...</td>\n",
       "      <td>0</td>\n",
       "      <td>False</td>\n",
       "      <td>en</td>\n",
       "      <td>None</td>\n",
       "      <td>0</td>\n",
       "      <td>False</td>\n",
       "      <td>None</td>\n",
       "      <td>bernie</td>\n",
       "      <td>...</td>\n",
       "      <td>0</td>\n",
       "      <td>0</td>\n",
       "      <td>0</td>\n",
       "      <td>0</td>\n",
       "      <td>0</td>\n",
       "      <td>0</td>\n",
       "      <td>0</td>\n",
       "      <td>0</td>\n",
       "      <td>0</td>\n",
       "      <td>0</td>\n",
       "    </tr>\n",
       "    <tr>\n",
       "      <th>1</th>\n",
       "      <td>2016-05-13 01:25:16</td>\n",
       "      <td>RT @mystictriple7: @SusanSarandon Show MSM #Be...</td>\n",
       "      <td>0</td>\n",
       "      <td>False</td>\n",
       "      <td>en</td>\n",
       "      <td>None</td>\n",
       "      <td>4</td>\n",
       "      <td>False</td>\n",
       "      <td>None</td>\n",
       "      <td>bernie</td>\n",
       "      <td>...</td>\n",
       "      <td>0</td>\n",
       "      <td>0</td>\n",
       "      <td>0</td>\n",
       "      <td>0</td>\n",
       "      <td>0</td>\n",
       "      <td>0</td>\n",
       "      <td>1</td>\n",
       "      <td>0</td>\n",
       "      <td>0</td>\n",
       "      <td>0</td>\n",
       "    </tr>\n",
       "    <tr>\n",
       "      <th>2</th>\n",
       "      <td>2016-05-13 01:21:55</td>\n",
       "      <td>RT @hollsly: #BernieSanders 💯 this is his the...</td>\n",
       "      <td>0</td>\n",
       "      <td>False</td>\n",
       "      <td>en</td>\n",
       "      <td>None</td>\n",
       "      <td>1</td>\n",
       "      <td>False</td>\n",
       "      <td>None</td>\n",
       "      <td>bernie</td>\n",
       "      <td>...</td>\n",
       "      <td>0</td>\n",
       "      <td>0</td>\n",
       "      <td>0</td>\n",
       "      <td>0</td>\n",
       "      <td>0</td>\n",
       "      <td>0</td>\n",
       "      <td>0</td>\n",
       "      <td>0</td>\n",
       "      <td>0</td>\n",
       "      <td>0</td>\n",
       "    </tr>\n",
       "    <tr>\n",
       "      <th>3</th>\n",
       "      <td>2016-05-13 00:46:57</td>\n",
       "      <td>RT @mystictriple7: @SusanSarandon Show MSM #Be...</td>\n",
       "      <td>0</td>\n",
       "      <td>False</td>\n",
       "      <td>en</td>\n",
       "      <td>None</td>\n",
       "      <td>4</td>\n",
       "      <td>False</td>\n",
       "      <td>None</td>\n",
       "      <td>bernie</td>\n",
       "      <td>...</td>\n",
       "      <td>0</td>\n",
       "      <td>0</td>\n",
       "      <td>0</td>\n",
       "      <td>0</td>\n",
       "      <td>0</td>\n",
       "      <td>0</td>\n",
       "      <td>1</td>\n",
       "      <td>0</td>\n",
       "      <td>0</td>\n",
       "      <td>0</td>\n",
       "    </tr>\n",
       "    <tr>\n",
       "      <th>4</th>\n",
       "      <td>2016-05-13 00:45:44</td>\n",
       "      <td>Politics is DIRTY #RyanTrump #HillaryDropOut B...</td>\n",
       "      <td>1</td>\n",
       "      <td>False</td>\n",
       "      <td>en</td>\n",
       "      <td>None</td>\n",
       "      <td>0</td>\n",
       "      <td>False</td>\n",
       "      <td>None</td>\n",
       "      <td>bernie</td>\n",
       "      <td>...</td>\n",
       "      <td>0</td>\n",
       "      <td>0</td>\n",
       "      <td>0</td>\n",
       "      <td>0</td>\n",
       "      <td>0</td>\n",
       "      <td>0</td>\n",
       "      <td>0</td>\n",
       "      <td>0</td>\n",
       "      <td>0</td>\n",
       "      <td>0</td>\n",
       "    </tr>\n",
       "  </tbody>\n",
       "</table>\n",
       "<p>5 rows × 2424 columns</p>\n",
       "</div>"
      ],
      "text/plain": [
       "                 date                                               text  \\\n",
       "0 2016-05-13 01:32:31  Clinton Camp Keeps Trying To Call #BernieSande...   \n",
       "1 2016-05-13 01:25:16  RT @mystictriple7: @SusanSarandon Show MSM #Be...   \n",
       "2 2016-05-13 01:21:55  RT @hollsly: #BernieSanders 💯 this is his the...   \n",
       "3 2016-05-13 00:46:57  RT @mystictriple7: @SusanSarandon Show MSM #Be...   \n",
       "4 2016-05-13 00:45:44  Politics is DIRTY #RyanTrump #HillaryDropOut B...   \n",
       "\n",
       "   favorite_count favorited language geocode  rwtweet count retweeted  \\\n",
       "0               0     False       en    None              0     False   \n",
       "1               0     False       en    None              4     False   \n",
       "2               0     False       en    None              1     False   \n",
       "3               0     False       en    None              4     False   \n",
       "4               1     False       en    None              0     False   \n",
       "\n",
       "  coordinates candidate  ...   2402  2403  2404  2405  2406  2407  2408  2409  \\\n",
       "0        None    bernie  ...      0     0     0     0     0     0     0     0   \n",
       "1        None    bernie  ...      0     0     0     0     0     0     1     0   \n",
       "2        None    bernie  ...      0     0     0     0     0     0     0     0   \n",
       "3        None    bernie  ...      0     0     0     0     0     0     1     0   \n",
       "4        None    bernie  ...      0     0     0     0     0     0     0     0   \n",
       "\n",
       "   2410  2411  \n",
       "0     0     0  \n",
       "1     0     0  \n",
       "2     0     0  \n",
       "3     0     0  \n",
       "4     0     0  \n",
       "\n",
       "[5 rows x 2424 columns]"
      ]
     },
     "execution_count": 21,
     "metadata": {},
     "output_type": "execute_result"
    }
   ],
   "source": [
    "# use countvectorizer to create a document-term matrix and concatinate it to your main dataframe\n",
    "#(hint you should now have thousands of columns)\n",
    "from sklearn.feature_extraction.text import CountVectorizer, TfidfVectorizer\n",
    "import scipy\n",
    "import numpy as np\n",
    "vect = CountVectorizer()\n",
    "all_tweets = all_tweets.reset_index(drop=True)\n",
    "doc_matrix = vect.fit_transform(all_tweets.text)\n",
    "doc_matrix = pd.DataFrame(doc_matrix.toarray())\n",
    "allofit = pd.concat([all_tweets,doc_matrix],axis=1) \n",
    "allofit.head()\n",
    "## turn sparse matrix into an array, and then into a dataframe"
   ]
  },
  {
   "cell_type": "code",
   "execution_count": null,
   "metadata": {
    "collapsed": true
   },
   "outputs": [],
   "source": [
    "# 6 Use kmean to create clusters for the dataframe"
   ]
  },
  {
   "cell_type": "code",
   "execution_count": null,
   "metadata": {
    "collapsed": true
   },
   "outputs": [],
   "source": [
    "# 7 Explore the clusters\n",
    "# What is interesting? Surprising? Can you draw any inferences about each cluster?\n",
    "# Write your answer to these questions in markdown"
   ]
  },
  {
   "cell_type": "code",
   "execution_count": null,
   "metadata": {
    "collapsed": true
   },
   "outputs": [],
   "source": [
    "# 8 Create a column called 'democrat' and assign it to the corresponding candidate name for all the records\n",
    "# 1 for bernie and hilary and 0 for donald trump"
   ]
  },
  {
   "cell_type": "code",
   "execution_count": null,
   "metadata": {
    "collapsed": true
   },
   "outputs": [],
   "source": [
    "# 9 Estimate classification models using knn and logistic regession.  Dont forget to use cross validation \n",
    "    # (do not use cross_val_score because we will want a confusion matrix).\n",
    "# Use a three class response variable for knn.  For logistic regression predict democrat or republic?\n",
    "#Assess the pros and cons of both approaches\n",
    "#Extra Credit: Estimate multinomial regression model using the three class response variable"
   ]
  },
  {
   "cell_type": "code",
   "execution_count": null,
   "metadata": {
    "collapsed": true
   },
   "outputs": [],
   "source": [
    "# 10 Initialize a classification model (for both knn and logistic)"
   ]
  },
  {
   "cell_type": "code",
   "execution_count": null,
   "metadata": {
    "collapsed": true
   },
   "outputs": [],
   "source": [
    "# 11 Train your classification model  (for both knn and logistic)"
   ]
  },
  {
   "cell_type": "code",
   "execution_count": null,
   "metadata": {
    "collapsed": true
   },
   "outputs": [],
   "source": [
    "# 12 Predict on your test features and targets (for both knn and logistic)"
   ]
  },
  {
   "cell_type": "code",
   "execution_count": null,
   "metadata": {
    "collapsed": true
   },
   "outputs": [],
   "source": [
    "# 13 output your accuracy (for both knn and logistic)"
   ]
  },
  {
   "cell_type": "code",
   "execution_count": null,
   "metadata": {
    "collapsed": true
   },
   "outputs": [],
   "source": [
    "# 14 Create a confusion matrix for your predictions (for both knn and logistic)"
   ]
  },
  {
   "cell_type": "code",
   "execution_count": null,
   "metadata": {
    "collapsed": true
   },
   "outputs": [],
   "source": [
    "# 15 Who is the easiest candidate to predict? Why do you think? Who is the hardest? Why do you think?\n",
    "# Write your answers in markdown (for both knn and logistic)"
   ]
  },
  {
   "cell_type": "code",
   "execution_count": null,
   "metadata": {
    "collapsed": true
   },
   "outputs": [],
   "source": [
    "# 16 What are some extra features (data points) you would like to add to this data set. Explain in markdown.\n",
    "# (hint maybe something like a boolean, \"has_hashtag\")"
   ]
  },
  {
   "cell_type": "code",
   "execution_count": null,
   "metadata": {
    "collapsed": true
   },
   "outputs": [],
   "source": [
    "# 17 Try adding extra features to improve the quality of your predictions (for both knn and logistic)"
   ]
  }
 ],
 "metadata": {
  "kernelspec": {
   "display_name": "Python 2",
   "language": "python",
   "name": "python2"
  },
  "language_info": {
   "codemirror_mode": {
    "name": "ipython",
    "version": 2
   },
   "file_extension": ".py",
   "mimetype": "text/x-python",
   "name": "python",
   "nbconvert_exporter": "python",
   "pygments_lexer": "ipython2",
   "version": "2.7.11"
  }
 },
 "nbformat": 4,
 "nbformat_minor": 0
}
